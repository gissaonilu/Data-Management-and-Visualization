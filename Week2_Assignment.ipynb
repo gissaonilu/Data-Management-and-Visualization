{
 "cells": [
  {
   "cell_type": "markdown",
   "metadata": {},
   "source": [
    "### Week 2 Assignment: Running Your First Program "
   ]
  },
  {
   "cell_type": "markdown",
   "metadata": {},
   "source": [
    "The purpose of the week 2 assignmnent is to write a program that outputs the frequency tables of three variables in the chosen dataset, in this case, Gapminder dataset and provide explanation describing the frequency of values in each of the variables, how often the values occur, presence of missing data etc."
   ]
  },
  {
   "cell_type": "code",
   "execution_count": 1,
   "metadata": {},
   "outputs": [],
   "source": [
    "#import libraries\n",
    "import pandas as pd\n",
    "import numpy as np"
   ]
  },
  {
   "cell_type": "code",
   "execution_count": 2,
   "metadata": {},
   "outputs": [],
   "source": [
    "#load dataset\n",
    "file_path = 'gapminder.csv'\n",
    "gapminder_df = pd.read_csv(file_path, low_memory=False)"
   ]
  },
  {
   "cell_type": "code",
   "execution_count": 5,
   "metadata": {},
   "outputs": [
    {
     "name": "stdout",
     "output_type": "stream",
     "text": [
      "213\n"
     ]
    }
   ],
   "source": [
    "#print out the number of rows (observations) in the dataset\n",
    "print(len(gapminder_df))"
   ]
  },
  {
   "cell_type": "code",
   "execution_count": 6,
   "metadata": {},
   "outputs": [
    {
     "name": "stdout",
     "output_type": "stream",
     "text": [
      "16\n"
     ]
    }
   ],
   "source": [
    "#print out number of columns in the dataset\n",
    "print(len(gapminder_df.columns))"
   ]
  },
  {
   "cell_type": "code",
   "execution_count": 11,
   "metadata": {},
   "outputs": [],
   "source": [
    "#replace empty cells with nan\n",
    "gapminder_df = gapminder_df.replace([\"\",\" \"], np.nan, regex=True)"
   ]
  },
  {
   "cell_type": "code",
   "execution_count": 16,
   "metadata": {},
   "outputs": [],
   "source": [
    "#convert object variables to numeric \n",
    "gapminder_df['polityscore'] = pd.to_numeric(gapminder_df['polityscore'])\n",
    "gapminder_df['urbanrate'] = pd.to_numeric(gapminder_df['urbanrate'])\n",
    "gapminder_df['hivrate'] = pd.to_numeric(gapminder_df['hivrate'])\n",
    "gapminder_df['incomeperperson'] = pd.to_numeric(gapminder_df['incomeperperson'])\n",
    "gapminder_df['alcconsumption'] = pd.to_numeric(gapminder_df['alcconsumption'])\n",
    "gapminder_df['armedforcesrate'] = pd.to_numeric(gapminder_df['armedforcesrate'])\n",
    "gapminder_df['breastcancerper100th'] = pd.to_numeric(gapminder_df['breastcancerper100th'])\n",
    "gapminder_df['co2emissions'] = pd.to_numeric(gapminder_df['co2emissions'])\n",
    "gapminder_df['femaleemployrate'] = pd.to_numeric(gapminder_df['femaleemployrate'])\n",
    "gapminder_df['internetuserate'] = pd.to_numeric(gapminder_df['internetuserate'])\n",
    "gapminder_df['lifeexpectancy'] = pd.to_numeric(gapminder_df['lifeexpectancy'])\n",
    "gapminder_df['oilperperson'] = pd.to_numeric(gapminder_df['oilperperson'])\n",
    "gapminder_df['employrate'] = pd.to_numeric(gapminder_df['employrate'])\n",
    "gapminder_df['suicideper100th'] = pd.to_numeric(gapminder_df['suicideper100th'])\n",
    "gapminder_df['relectricperperson'] = pd.to_numeric(gapminder_df['relectricperperson'])\n"
   ]
  },
  {
   "cell_type": "markdown",
   "metadata": {},
   "source": [
    "#### Create Frequency tables for the chosen variables using value_counts()"
   ]
  },
  {
   "cell_type": "code",
   "execution_count": 81,
   "metadata": {},
   "outputs": [],
   "source": [
    "#create frequency tables for three variables in the dataset\n",
    "#frequency distribution of oilperperson variable\n",
    "f1 = gapminder_df['oilperperson'].value_counts(bins=5, sort=False, dropna=False)\n",
    "p1 = gapminder_df['oilperperson'].value_counts(bins=5, sort=False, normalize=True, dropna=False)\n",
    "#frequency distribution of co2emissions variable \n",
    "f2 = gapminder_df['co2emissions'].value_counts(bins=5, sort=False, dropna=False)\n",
    "p2 = gapminder_df['co2emissions'].value_counts(bins=5, sort=False, normalize=True, dropna=False)\n",
    "#frequency distribution of relectricperperson variable\n",
    "f3 = gapminder_df['relectricperperson'].value_counts(bins=5, sort=False, dropna=False)\n",
    "p3 = gapminder_df['relectricperperson'].value_counts(bins=5, sort=False, normalize=True, dropna=False)"
   ]
  },
  {
   "cell_type": "code",
   "execution_count": 82,
   "metadata": {},
   "outputs": [
    {
     "data": {
      "text/html": [
       "<div>\n",
       "<style scoped>\n",
       "    .dataframe tbody tr th:only-of-type {\n",
       "        vertical-align: middle;\n",
       "    }\n",
       "\n",
       "    .dataframe tbody tr th {\n",
       "        vertical-align: top;\n",
       "    }\n",
       "\n",
       "    .dataframe thead th {\n",
       "        text-align: right;\n",
       "    }\n",
       "</style>\n",
       "<table border=\"1\" class=\"dataframe\">\n",
       "  <thead>\n",
       "    <tr style=\"text-align: right;\">\n",
       "      <th></th>\n",
       "      <th>oilperperson</th>\n",
       "    </tr>\n",
       "  </thead>\n",
       "  <tbody>\n",
       "    <tr>\n",
       "      <th>(0.0191, 2.472]</th>\n",
       "      <td>55</td>\n",
       "    </tr>\n",
       "    <tr>\n",
       "      <th>(2.472, 4.911]</th>\n",
       "      <td>6</td>\n",
       "    </tr>\n",
       "    <tr>\n",
       "      <th>(4.911, 7.35]</th>\n",
       "      <td>1</td>\n",
       "    </tr>\n",
       "    <tr>\n",
       "      <th>(7.35, 9.789]</th>\n",
       "      <td>0</td>\n",
       "    </tr>\n",
       "    <tr>\n",
       "      <th>(9.789, 12.229]</th>\n",
       "      <td>1</td>\n",
       "    </tr>\n",
       "  </tbody>\n",
       "</table>\n",
       "</div>"
      ],
      "text/plain": [
       "                 oilperperson\n",
       "(0.0191, 2.472]            55\n",
       "(2.472, 4.911]              6\n",
       "(4.911, 7.35]               1\n",
       "(7.35, 9.789]               0\n",
       "(9.789, 12.229]             1"
      ]
     },
     "execution_count": 82,
     "metadata": {},
     "output_type": "execute_result"
    }
   ],
   "source": [
    "#output the frequency of the values in oilperperson\n",
    "f1.to_frame()"
   ]
  },
  {
   "cell_type": "code",
   "execution_count": 83,
   "metadata": {},
   "outputs": [
    {
     "data": {
      "text/html": [
       "<div>\n",
       "<style scoped>\n",
       "    .dataframe tbody tr th:only-of-type {\n",
       "        vertical-align: middle;\n",
       "    }\n",
       "\n",
       "    .dataframe tbody tr th {\n",
       "        vertical-align: top;\n",
       "    }\n",
       "\n",
       "    .dataframe thead th {\n",
       "        text-align: right;\n",
       "    }\n",
       "</style>\n",
       "<table border=\"1\" class=\"dataframe\">\n",
       "  <thead>\n",
       "    <tr style=\"text-align: right;\">\n",
       "      <th></th>\n",
       "      <th>oilperperson</th>\n",
       "    </tr>\n",
       "  </thead>\n",
       "  <tbody>\n",
       "    <tr>\n",
       "      <th>(0.0191, 2.472]</th>\n",
       "      <td>0.258216</td>\n",
       "    </tr>\n",
       "    <tr>\n",
       "      <th>(2.472, 4.911]</th>\n",
       "      <td>0.028169</td>\n",
       "    </tr>\n",
       "    <tr>\n",
       "      <th>(4.911, 7.35]</th>\n",
       "      <td>0.004695</td>\n",
       "    </tr>\n",
       "    <tr>\n",
       "      <th>(7.35, 9.789]</th>\n",
       "      <td>0.000000</td>\n",
       "    </tr>\n",
       "    <tr>\n",
       "      <th>(9.789, 12.229]</th>\n",
       "      <td>0.004695</td>\n",
       "    </tr>\n",
       "  </tbody>\n",
       "</table>\n",
       "</div>"
      ],
      "text/plain": [
       "                 oilperperson\n",
       "(0.0191, 2.472]      0.258216\n",
       "(2.472, 4.911]       0.028169\n",
       "(4.911, 7.35]        0.004695\n",
       "(7.35, 9.789]        0.000000\n",
       "(9.789, 12.229]      0.004695"
      ]
     },
     "execution_count": 83,
     "metadata": {},
     "output_type": "execute_result"
    }
   ],
   "source": [
    "#output the percentage of values in the oilperperson variable\n",
    "p1.to_frame()"
   ]
  },
  {
   "cell_type": "code",
   "execution_count": 84,
   "metadata": {},
   "outputs": [
    {
     "data": {
      "text/html": [
       "<div>\n",
       "<style scoped>\n",
       "    .dataframe tbody tr th:only-of-type {\n",
       "        vertical-align: middle;\n",
       "    }\n",
       "\n",
       "    .dataframe tbody tr th {\n",
       "        vertical-align: top;\n",
       "    }\n",
       "\n",
       "    .dataframe thead th {\n",
       "        text-align: right;\n",
       "    }\n",
       "</style>\n",
       "<table border=\"1\" class=\"dataframe\">\n",
       "  <thead>\n",
       "    <tr style=\"text-align: right;\">\n",
       "      <th></th>\n",
       "      <th>co2emissions</th>\n",
       "    </tr>\n",
       "  </thead>\n",
       "  <tbody>\n",
       "    <tr>\n",
       "      <th>(-333867868.001, 66800105600.0]</th>\n",
       "      <td>197</td>\n",
       "    </tr>\n",
       "    <tr>\n",
       "      <th>(66800105600.0, 133600079200.0]</th>\n",
       "      <td>2</td>\n",
       "    </tr>\n",
       "    <tr>\n",
       "      <th>(133600079200.0, 200400052800.0]</th>\n",
       "      <td>0</td>\n",
       "    </tr>\n",
       "    <tr>\n",
       "      <th>(200400052800.0, 267200026400.0]</th>\n",
       "      <td>0</td>\n",
       "    </tr>\n",
       "    <tr>\n",
       "      <th>(267200026400.0, 334000000000.0]</th>\n",
       "      <td>1</td>\n",
       "    </tr>\n",
       "  </tbody>\n",
       "</table>\n",
       "</div>"
      ],
      "text/plain": [
       "                                  co2emissions\n",
       "(-333867868.001, 66800105600.0]            197\n",
       "(66800105600.0, 133600079200.0]              2\n",
       "(133600079200.0, 200400052800.0]             0\n",
       "(200400052800.0, 267200026400.0]             0\n",
       "(267200026400.0, 334000000000.0]             1"
      ]
     },
     "execution_count": 84,
     "metadata": {},
     "output_type": "execute_result"
    }
   ],
   "source": [
    "#output the frequency of the values of co2emissions variable\n",
    "f2.to_frame()"
   ]
  },
  {
   "cell_type": "code",
   "execution_count": 85,
   "metadata": {},
   "outputs": [
    {
     "data": {
      "text/html": [
       "<div>\n",
       "<style scoped>\n",
       "    .dataframe tbody tr th:only-of-type {\n",
       "        vertical-align: middle;\n",
       "    }\n",
       "\n",
       "    .dataframe tbody tr th {\n",
       "        vertical-align: top;\n",
       "    }\n",
       "\n",
       "    .dataframe thead th {\n",
       "        text-align: right;\n",
       "    }\n",
       "</style>\n",
       "<table border=\"1\" class=\"dataframe\">\n",
       "  <thead>\n",
       "    <tr style=\"text-align: right;\">\n",
       "      <th></th>\n",
       "      <th>co2emissions</th>\n",
       "    </tr>\n",
       "  </thead>\n",
       "  <tbody>\n",
       "    <tr>\n",
       "      <th>(-333867868.001, 66800105600.0]</th>\n",
       "      <td>0.924883</td>\n",
       "    </tr>\n",
       "    <tr>\n",
       "      <th>(66800105600.0, 133600079200.0]</th>\n",
       "      <td>0.009390</td>\n",
       "    </tr>\n",
       "    <tr>\n",
       "      <th>(133600079200.0, 200400052800.0]</th>\n",
       "      <td>0.000000</td>\n",
       "    </tr>\n",
       "    <tr>\n",
       "      <th>(200400052800.0, 267200026400.0]</th>\n",
       "      <td>0.000000</td>\n",
       "    </tr>\n",
       "    <tr>\n",
       "      <th>(267200026400.0, 334000000000.0]</th>\n",
       "      <td>0.004695</td>\n",
       "    </tr>\n",
       "  </tbody>\n",
       "</table>\n",
       "</div>"
      ],
      "text/plain": [
       "                                  co2emissions\n",
       "(-333867868.001, 66800105600.0]       0.924883\n",
       "(66800105600.0, 133600079200.0]       0.009390\n",
       "(133600079200.0, 200400052800.0]      0.000000\n",
       "(200400052800.0, 267200026400.0]      0.000000\n",
       "(267200026400.0, 334000000000.0]      0.004695"
      ]
     },
     "execution_count": 85,
     "metadata": {},
     "output_type": "execute_result"
    }
   ],
   "source": [
    "#output the percentage of the values of co2emissions variable\n",
    "p2.to_frame()"
   ]
  },
  {
   "cell_type": "code",
   "execution_count": 86,
   "metadata": {},
   "outputs": [
    {
     "data": {
      "text/html": [
       "<div>\n",
       "<style scoped>\n",
       "    .dataframe tbody tr th:only-of-type {\n",
       "        vertical-align: middle;\n",
       "    }\n",
       "\n",
       "    .dataframe tbody tr th {\n",
       "        vertical-align: top;\n",
       "    }\n",
       "\n",
       "    .dataframe thead th {\n",
       "        text-align: right;\n",
       "    }\n",
       "</style>\n",
       "<table border=\"1\" class=\"dataframe\">\n",
       "  <thead>\n",
       "    <tr style=\"text-align: right;\">\n",
       "      <th></th>\n",
       "      <th>relectricperperson</th>\n",
       "    </tr>\n",
       "  </thead>\n",
       "  <tbody>\n",
       "    <tr>\n",
       "      <th>(-11.155999999999999, 2230.951]</th>\n",
       "      <td>117</td>\n",
       "    </tr>\n",
       "    <tr>\n",
       "      <th>(2230.951, 4461.902]</th>\n",
       "      <td>12</td>\n",
       "    </tr>\n",
       "    <tr>\n",
       "      <th>(4461.902, 6692.853]</th>\n",
       "      <td>3</td>\n",
       "    </tr>\n",
       "    <tr>\n",
       "      <th>(6692.853, 8923.804]</th>\n",
       "      <td>3</td>\n",
       "    </tr>\n",
       "    <tr>\n",
       "      <th>(8923.804, 11154.755]</th>\n",
       "      <td>1</td>\n",
       "    </tr>\n",
       "  </tbody>\n",
       "</table>\n",
       "</div>"
      ],
      "text/plain": [
       "                                 relectricperperson\n",
       "(-11.155999999999999, 2230.951]                 117\n",
       "(2230.951, 4461.902]                             12\n",
       "(4461.902, 6692.853]                              3\n",
       "(6692.853, 8923.804]                              3\n",
       "(8923.804, 11154.755]                             1"
      ]
     },
     "execution_count": 86,
     "metadata": {},
     "output_type": "execute_result"
    }
   ],
   "source": [
    "#output the frequency of the values of the relectricperperson variable\n",
    "f3.to_frame()"
   ]
  },
  {
   "cell_type": "code",
   "execution_count": 87,
   "metadata": {},
   "outputs": [
    {
     "data": {
      "text/html": [
       "<div>\n",
       "<style scoped>\n",
       "    .dataframe tbody tr th:only-of-type {\n",
       "        vertical-align: middle;\n",
       "    }\n",
       "\n",
       "    .dataframe tbody tr th {\n",
       "        vertical-align: top;\n",
       "    }\n",
       "\n",
       "    .dataframe thead th {\n",
       "        text-align: right;\n",
       "    }\n",
       "</style>\n",
       "<table border=\"1\" class=\"dataframe\">\n",
       "  <thead>\n",
       "    <tr style=\"text-align: right;\">\n",
       "      <th></th>\n",
       "      <th>relectricperperson</th>\n",
       "    </tr>\n",
       "  </thead>\n",
       "  <tbody>\n",
       "    <tr>\n",
       "      <th>(-11.155999999999999, 2230.951]</th>\n",
       "      <td>0.549296</td>\n",
       "    </tr>\n",
       "    <tr>\n",
       "      <th>(2230.951, 4461.902]</th>\n",
       "      <td>0.056338</td>\n",
       "    </tr>\n",
       "    <tr>\n",
       "      <th>(4461.902, 6692.853]</th>\n",
       "      <td>0.014085</td>\n",
       "    </tr>\n",
       "    <tr>\n",
       "      <th>(6692.853, 8923.804]</th>\n",
       "      <td>0.014085</td>\n",
       "    </tr>\n",
       "    <tr>\n",
       "      <th>(8923.804, 11154.755]</th>\n",
       "      <td>0.004695</td>\n",
       "    </tr>\n",
       "  </tbody>\n",
       "</table>\n",
       "</div>"
      ],
      "text/plain": [
       "                                 relectricperperson\n",
       "(-11.155999999999999, 2230.951]            0.549296\n",
       "(2230.951, 4461.902]                       0.056338\n",
       "(4461.902, 6692.853]                       0.014085\n",
       "(6692.853, 8923.804]                       0.014085\n",
       "(8923.804, 11154.755]                      0.004695"
      ]
     },
     "execution_count": 87,
     "metadata": {},
     "output_type": "execute_result"
    }
   ],
   "source": [
    "#output the percentage of the values of the relectricperperson variable\n",
    "p3.to_frame()"
   ]
  },
  {
   "cell_type": "markdown",
   "metadata": {},
   "source": [
    "#### Subset the data to include only the observations for developed economies only"
   ]
  },
  {
   "cell_type": "code",
   "execution_count": 44,
   "metadata": {},
   "outputs": [],
   "source": [
    "#subsetting the dataset to include only the data of developed economies using average gdp per capita of 9500 \n",
    "sub1 = gapminder_df[gapminder_df['incomeperperson'] >= 9500]\n",
    "sub2 = sub1.copy()"
   ]
  },
  {
   "cell_type": "code",
   "execution_count": 47,
   "metadata": {},
   "outputs": [],
   "source": [
    "#sub2.head(10)"
   ]
  },
  {
   "cell_type": "code",
   "execution_count": 75,
   "metadata": {},
   "outputs": [
    {
     "data": {
      "text/plain": [
       "47"
      ]
     },
     "execution_count": 75,
     "metadata": {},
     "output_type": "execute_result"
    }
   ],
   "source": [
    "len(sub2)"
   ]
  },
  {
   "cell_type": "code",
   "execution_count": 77,
   "metadata": {},
   "outputs": [
    {
     "data": {
      "text/html": [
       "<div>\n",
       "<style scoped>\n",
       "    .dataframe tbody tr th:only-of-type {\n",
       "        vertical-align: middle;\n",
       "    }\n",
       "\n",
       "    .dataframe tbody tr th {\n",
       "        vertical-align: top;\n",
       "    }\n",
       "\n",
       "    .dataframe thead th {\n",
       "        text-align: right;\n",
       "    }\n",
       "</style>\n",
       "<table border=\"1\" class=\"dataframe\">\n",
       "  <thead>\n",
       "    <tr style=\"text-align: right;\">\n",
       "      <th></th>\n",
       "      <th>co2emissions</th>\n",
       "    </tr>\n",
       "  </thead>\n",
       "  <tbody>\n",
       "    <tr>\n",
       "      <th>(-317758775.001, 66812980000.0]</th>\n",
       "      <td>39</td>\n",
       "    </tr>\n",
       "    <tr>\n",
       "      <th>(66812980000.0, 133609735000.0]</th>\n",
       "      <td>1</td>\n",
       "    </tr>\n",
       "    <tr>\n",
       "      <th>(133609735000.0, 200406490000.0]</th>\n",
       "      <td>0</td>\n",
       "    </tr>\n",
       "    <tr>\n",
       "      <th>(200406490000.0, 267203245000.0]</th>\n",
       "      <td>0</td>\n",
       "    </tr>\n",
       "    <tr>\n",
       "      <th>(267203245000.0, 334000000000.0]</th>\n",
       "      <td>1</td>\n",
       "    </tr>\n",
       "  </tbody>\n",
       "</table>\n",
       "</div>"
      ],
      "text/plain": [
       "                                  co2emissions\n",
       "(-317758775.001, 66812980000.0]             39\n",
       "(66812980000.0, 133609735000.0]              1\n",
       "(133609735000.0, 200406490000.0]             0\n",
       "(200406490000.0, 267203245000.0]             0\n",
       "(267203245000.0, 334000000000.0]             1"
      ]
     },
     "execution_count": 77,
     "metadata": {},
     "output_type": "execute_result"
    }
   ],
   "source": [
    "#calculating frequency tables for 'co2emissions' from a subset of the gapminder data\n",
    "ct2 = sub2['co2emissions'].value_counts(bins=5, sort=False).to_frame()\n",
    "ct2"
   ]
  },
  {
   "cell_type": "code",
   "execution_count": 76,
   "metadata": {},
   "outputs": [
    {
     "data": {
      "text/html": [
       "<div>\n",
       "<style scoped>\n",
       "    .dataframe tbody tr th:only-of-type {\n",
       "        vertical-align: middle;\n",
       "    }\n",
       "\n",
       "    .dataframe tbody tr th {\n",
       "        vertical-align: top;\n",
       "    }\n",
       "\n",
       "    .dataframe thead th {\n",
       "        text-align: right;\n",
       "    }\n",
       "</style>\n",
       "<table border=\"1\" class=\"dataframe\">\n",
       "  <thead>\n",
       "    <tr style=\"text-align: right;\">\n",
       "      <th></th>\n",
       "      <th>co2emissions</th>\n",
       "    </tr>\n",
       "  </thead>\n",
       "  <tbody>\n",
       "    <tr>\n",
       "      <th>(-317758775.001, 66812980000.0]</th>\n",
       "      <td>0.829787</td>\n",
       "    </tr>\n",
       "    <tr>\n",
       "      <th>(66812980000.0, 133609735000.0]</th>\n",
       "      <td>0.021277</td>\n",
       "    </tr>\n",
       "    <tr>\n",
       "      <th>(133609735000.0, 200406490000.0]</th>\n",
       "      <td>0.000000</td>\n",
       "    </tr>\n",
       "    <tr>\n",
       "      <th>(200406490000.0, 267203245000.0]</th>\n",
       "      <td>0.000000</td>\n",
       "    </tr>\n",
       "    <tr>\n",
       "      <th>(267203245000.0, 334000000000.0]</th>\n",
       "      <td>0.021277</td>\n",
       "    </tr>\n",
       "  </tbody>\n",
       "</table>\n",
       "</div>"
      ],
      "text/plain": [
       "                                  co2emissions\n",
       "(-317758775.001, 66812980000.0]       0.829787\n",
       "(66812980000.0, 133609735000.0]       0.021277\n",
       "(133609735000.0, 200406490000.0]      0.000000\n",
       "(200406490000.0, 267203245000.0]      0.000000\n",
       "(267203245000.0, 334000000000.0]      0.021277"
      ]
     },
     "execution_count": 76,
     "metadata": {},
     "output_type": "execute_result"
    }
   ],
   "source": [
    "pt2 = sub2['co2emissions'].value_counts(sort=False, normalize=True, bins=5).to_frame()\n",
    "pt2"
   ]
  },
  {
   "cell_type": "code",
   "execution_count": null,
   "metadata": {},
   "outputs": [],
   "source": []
  }
 ],
 "metadata": {
  "kernelspec": {
   "display_name": "Python 3",
   "language": "python",
   "name": "python3"
  },
  "language_info": {
   "codemirror_mode": {
    "name": "ipython",
    "version": 3
   },
   "file_extension": ".py",
   "mimetype": "text/x-python",
   "name": "python",
   "nbconvert_exporter": "python",
   "pygments_lexer": "ipython3",
   "version": "3.7.6"
  }
 },
 "nbformat": 4,
 "nbformat_minor": 4
}
