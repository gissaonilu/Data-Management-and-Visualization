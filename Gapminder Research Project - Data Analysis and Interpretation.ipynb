{
 "cells": [
  {
   "cell_type": "code",
   "execution_count": null,
   "metadata": {},
   "outputs": [],
   "source": []
  },
  {
   "cell_type": "code",
   "execution_count": null,
   "metadata": {},
   "outputs": [],
   "source": []
  },
  {
   "cell_type": "code",
   "execution_count": 28,
   "metadata": {},
   "outputs": [],
   "source": [
    "#import libraries\n",
    "import pandas as pd\n",
    "import numpy as np\n",
    "import seaborn as sns\n",
    "import matplotlib.pyplot as plt\n",
    "import statsmodels.formula.api as smf"
   ]
  },
  {
   "cell_type": "code",
   "execution_count": 29,
   "metadata": {},
   "outputs": [],
   "source": [
    "#load dataset\n",
    "file_path = 'course files/gapminder.csv'\n",
    "gapminder_df = pd.read_csv(file_path, low_memory=False)"
   ]
  },
  {
   "cell_type": "code",
   "execution_count": 30,
   "metadata": {},
   "outputs": [],
   "source": [
    "pd.set_option('display.max_rows', None)\n",
    "pd.set_option('display.max_columns', None)\n",
    "pd.set_option('display.float_format', lambda x: '%f' %x)"
   ]
  },
  {
   "cell_type": "code",
   "execution_count": 31,
   "metadata": {},
   "outputs": [
    {
     "name": "stdout",
     "output_type": "stream",
     "text": [
      "213\n"
     ]
    }
   ],
   "source": [
    "#print out the number of rows (observations) in the dataset\n",
    "print(len(gapminder_df))"
   ]
  },
  {
   "cell_type": "code",
   "execution_count": 32,
   "metadata": {},
   "outputs": [
    {
     "name": "stdout",
     "output_type": "stream",
     "text": [
      "16\n"
     ]
    }
   ],
   "source": [
    "#print out number of columns in the dataset\n",
    "print(len(gapminder_df.columns))"
   ]
  },
  {
   "cell_type": "markdown",
   "metadata": {},
   "source": [
    "#### Select columns needed for the research project"
   ]
  },
  {
   "cell_type": "code",
   "execution_count": 33,
   "metadata": {},
   "outputs": [
    {
     "data": {
      "text/html": [
       "<div>\n",
       "<style scoped>\n",
       "    .dataframe tbody tr th:only-of-type {\n",
       "        vertical-align: middle;\n",
       "    }\n",
       "\n",
       "    .dataframe tbody tr th {\n",
       "        vertical-align: top;\n",
       "    }\n",
       "\n",
       "    .dataframe thead th {\n",
       "        text-align: right;\n",
       "    }\n",
       "</style>\n",
       "<table border=\"1\" class=\"dataframe\">\n",
       "  <thead>\n",
       "    <tr style=\"text-align: right;\">\n",
       "      <th></th>\n",
       "      <th>country</th>\n",
       "      <th>incomeperperson</th>\n",
       "      <th>oilperperson</th>\n",
       "      <th>co2emissions</th>\n",
       "      <th>relectricperperson</th>\n",
       "    </tr>\n",
       "  </thead>\n",
       "  <tbody>\n",
       "    <tr>\n",
       "      <th>0</th>\n",
       "      <td>Afghanistan</td>\n",
       "      <td></td>\n",
       "      <td></td>\n",
       "      <td>75944000</td>\n",
       "      <td></td>\n",
       "    </tr>\n",
       "    <tr>\n",
       "      <th>1</th>\n",
       "      <td>Albania</td>\n",
       "      <td>1914.996551</td>\n",
       "      <td></td>\n",
       "      <td>223747333.3</td>\n",
       "      <td>636.3413834</td>\n",
       "    </tr>\n",
       "    <tr>\n",
       "      <th>2</th>\n",
       "      <td>Algeria</td>\n",
       "      <td>2231.993335</td>\n",
       "      <td>0.420094525</td>\n",
       "      <td>2932108667</td>\n",
       "      <td>590.5098143</td>\n",
       "    </tr>\n",
       "    <tr>\n",
       "      <th>3</th>\n",
       "      <td>Andorra</td>\n",
       "      <td>21943.3399</td>\n",
       "      <td></td>\n",
       "      <td></td>\n",
       "      <td></td>\n",
       "    </tr>\n",
       "    <tr>\n",
       "      <th>4</th>\n",
       "      <td>Angola</td>\n",
       "      <td>1381.004268</td>\n",
       "      <td></td>\n",
       "      <td>248358000</td>\n",
       "      <td>172.9992274</td>\n",
       "    </tr>\n",
       "    <tr>\n",
       "      <th>5</th>\n",
       "      <td>Antigua and Barbuda</td>\n",
       "      <td>11894.46407</td>\n",
       "      <td></td>\n",
       "      <td>16225000</td>\n",
       "      <td></td>\n",
       "    </tr>\n",
       "  </tbody>\n",
       "</table>\n",
       "</div>"
      ],
      "text/plain": [
       "               country incomeperperson oilperperson co2emissions  \\\n",
       "0          Afghanistan                                  75944000   \n",
       "1              Albania     1914.996551               223747333.3   \n",
       "2              Algeria     2231.993335  0.420094525   2932108667   \n",
       "3              Andorra      21943.3399                             \n",
       "4               Angola     1381.004268                 248358000   \n",
       "5  Antigua and Barbuda     11894.46407                  16225000   \n",
       "\n",
       "  relectricperperson  \n",
       "0                     \n",
       "1        636.3413834  \n",
       "2        590.5098143  \n",
       "3                     \n",
       "4        172.9992274  \n",
       "5                     "
      ]
     },
     "execution_count": 33,
     "metadata": {},
     "output_type": "execute_result"
    }
   ],
   "source": [
    "#select the variables needed for project\n",
    "gapminder_df = gapminder_df[['country', 'incomeperperson','oilperperson', 'co2emissions', 'relectricperperson']]\n",
    "gapminder_df.head(6)"
   ]
  },
  {
   "cell_type": "markdown",
   "metadata": {},
   "source": [
    "#### Dealing with missing data"
   ]
  },
  {
   "cell_type": "code",
   "execution_count": 34,
   "metadata": {},
   "outputs": [],
   "source": [
    "#replace empty cells with nan\n",
    "gapminder_df = gapminder_df.replace([\"\",\" \"], np.nan, regex=True)"
   ]
  },
  {
   "cell_type": "code",
   "execution_count": 35,
   "metadata": {},
   "outputs": [],
   "source": [
    "#convert object variables to numeric \n",
    "\n",
    "gapminder_df['incomeperperson'] = pd.to_numeric(gapminder_df['incomeperperson'])\n",
    "gapminder_df['co2emissions'] = pd.to_numeric(gapminder_df['co2emissions'])\n",
    "gapminder_df['oilperperson'] = pd.to_numeric(gapminder_df['oilperperson'])\n",
    "gapminder_df['relectricperperson'] = pd.to_numeric(gapminder_df['relectricperperson'])\n"
   ]
  },
  {
   "cell_type": "code",
   "execution_count": 36,
   "metadata": {},
   "outputs": [],
   "source": [
    "sub1 = gapminder_df.copy()"
   ]
  },
  {
   "cell_type": "code",
   "execution_count": 37,
   "metadata": {},
   "outputs": [
    {
     "data": {
      "text/html": [
       "<div>\n",
       "<style scoped>\n",
       "    .dataframe tbody tr th:only-of-type {\n",
       "        vertical-align: middle;\n",
       "    }\n",
       "\n",
       "    .dataframe tbody tr th {\n",
       "        vertical-align: top;\n",
       "    }\n",
       "\n",
       "    .dataframe thead th {\n",
       "        text-align: right;\n",
       "    }\n",
       "</style>\n",
       "<table border=\"1\" class=\"dataframe\">\n",
       "  <thead>\n",
       "    <tr style=\"text-align: right;\">\n",
       "      <th></th>\n",
       "      <th>country</th>\n",
       "      <th>incomeperperson</th>\n",
       "      <th>oilperperson</th>\n",
       "      <th>co2emissions</th>\n",
       "      <th>relectricperperson</th>\n",
       "    </tr>\n",
       "  </thead>\n",
       "  <tbody>\n",
       "    <tr>\n",
       "      <th>0</th>\n",
       "      <td>Afghanistan</td>\n",
       "      <td>nan</td>\n",
       "      <td>nan</td>\n",
       "      <td>75944000.000000</td>\n",
       "      <td>nan</td>\n",
       "    </tr>\n",
       "    <tr>\n",
       "      <th>1</th>\n",
       "      <td>Albania</td>\n",
       "      <td>1914.996551</td>\n",
       "      <td>nan</td>\n",
       "      <td>223747333.300000</td>\n",
       "      <td>636.341383</td>\n",
       "    </tr>\n",
       "    <tr>\n",
       "      <th>2</th>\n",
       "      <td>Algeria</td>\n",
       "      <td>2231.993335</td>\n",
       "      <td>0.420095</td>\n",
       "      <td>2932108667.000000</td>\n",
       "      <td>590.509814</td>\n",
       "    </tr>\n",
       "    <tr>\n",
       "      <th>3</th>\n",
       "      <td>Andorra</td>\n",
       "      <td>21943.339900</td>\n",
       "      <td>nan</td>\n",
       "      <td>nan</td>\n",
       "      <td>nan</td>\n",
       "    </tr>\n",
       "    <tr>\n",
       "      <th>4</th>\n",
       "      <td>Angola</td>\n",
       "      <td>1381.004268</td>\n",
       "      <td>nan</td>\n",
       "      <td>248358000.000000</td>\n",
       "      <td>172.999227</td>\n",
       "    </tr>\n",
       "    <tr>\n",
       "      <th>5</th>\n",
       "      <td>NaN</td>\n",
       "      <td>11894.464070</td>\n",
       "      <td>nan</td>\n",
       "      <td>16225000.000000</td>\n",
       "      <td>nan</td>\n",
       "    </tr>\n",
       "    <tr>\n",
       "      <th>6</th>\n",
       "      <td>Argentina</td>\n",
       "      <td>10749.419240</td>\n",
       "      <td>0.635944</td>\n",
       "      <td>5872119000.000000</td>\n",
       "      <td>768.428300</td>\n",
       "    </tr>\n",
       "    <tr>\n",
       "      <th>7</th>\n",
       "      <td>Armenia</td>\n",
       "      <td>1326.741757</td>\n",
       "      <td>nan</td>\n",
       "      <td>51219666.670000</td>\n",
       "      <td>603.763058</td>\n",
       "    </tr>\n",
       "    <tr>\n",
       "      <th>8</th>\n",
       "      <td>Aruba</td>\n",
       "      <td>nan</td>\n",
       "      <td>nan</td>\n",
       "      <td>35871000.000000</td>\n",
       "      <td>nan</td>\n",
       "    </tr>\n",
       "    <tr>\n",
       "      <th>9</th>\n",
       "      <td>Australia</td>\n",
       "      <td>25249.986060</td>\n",
       "      <td>1.913026</td>\n",
       "      <td>12970092667.000000</td>\n",
       "      <td>2825.391095</td>\n",
       "    </tr>\n",
       "  </tbody>\n",
       "</table>\n",
       "</div>"
      ],
      "text/plain": [
       "       country  incomeperperson  oilperperson       co2emissions  \\\n",
       "0  Afghanistan              nan           nan    75944000.000000   \n",
       "1      Albania      1914.996551           nan   223747333.300000   \n",
       "2      Algeria      2231.993335      0.420095  2932108667.000000   \n",
       "3      Andorra     21943.339900           nan                nan   \n",
       "4       Angola      1381.004268           nan   248358000.000000   \n",
       "5          NaN     11894.464070           nan    16225000.000000   \n",
       "6    Argentina     10749.419240      0.635944  5872119000.000000   \n",
       "7      Armenia      1326.741757           nan    51219666.670000   \n",
       "8        Aruba              nan           nan    35871000.000000   \n",
       "9    Australia     25249.986060      1.913026 12970092667.000000   \n",
       "\n",
       "   relectricperperson  \n",
       "0                 nan  \n",
       "1          636.341383  \n",
       "2          590.509814  \n",
       "3                 nan  \n",
       "4          172.999227  \n",
       "5                 nan  \n",
       "6          768.428300  \n",
       "7          603.763058  \n",
       "8                 nan  \n",
       "9         2825.391095  "
      ]
     },
     "execution_count": 37,
     "metadata": {},
     "output_type": "execute_result"
    }
   ],
   "source": [
    "sub1.head(10)"
   ]
  },
  {
   "cell_type": "markdown",
   "metadata": {},
   "source": [
    "## Univariate analysis of each variable selected"
   ]
  },
  {
   "cell_type": "code",
   "execution_count": 38,
   "metadata": {},
   "outputs": [
    {
     "data": {
      "text/plain": [
       "Text(0.5, 1.0, 'Distribution of Oilperperson variable')"
      ]
     },
     "execution_count": 38,
     "metadata": {},
     "output_type": "execute_result"
    },
    {
     "data": {
      "image/png": "[encoded data removed]",
      "text/plain": [
       "<Figure size 432x288 with 1 Axes>"
      ]
     },
     "metadata": {
      "needs_background": "light"
     },
     "output_type": "display_data"
    }
   ],
   "source": [
    "sns.histplot(sub1['oilperperson'].dropna())\n",
    "plt.xlabel('Oil per person (tonnes)')\n",
    "plt.ylabel('Number of countries')\n",
    "plt.title('Distribution of Oilperperson variable')"
   ]
  },
  {
   "cell_type": "code",
   "execution_count": 39,
   "metadata": {},
   "outputs": [
    {
     "data": {
      "text/plain": [
       "count   63.000000\n",
       "mean     1.484085\n",
       "std      1.825090\n",
       "min      0.032281\n",
       "25%      0.532541\n",
       "50%      1.032470\n",
       "75%      1.622737\n",
       "max     12.228645\n",
       "Name: oilperperson, dtype: float64"
      ]
     },
     "execution_count": 39,
     "metadata": {},
     "output_type": "execute_result"
    }
   ],
   "source": [
    "sub1['oilperperson'].describe()"
   ]
  },
  {
   "cell_type": "code",
   "execution_count": 40,
   "metadata": {},
   "outputs": [
    {
     "data": {
      "text/plain": [
       "Text(0.5, 1.0, 'Distribution of Relectricperperson variable')"
      ]
     },
     "execution_count": 40,
     "metadata": {},
     "output_type": "execute_result"
    },
    {
     "data": {
      "image/png": "[encoded data removed]",
      "text/plain": [
       "<Figure size 432x288 with 1 Axes>"
      ]
     },
     "metadata": {
      "needs_background": "light"
     },
     "output_type": "display_data"
    }
   ],
   "source": [
    "sns.histplot(sub1['relectricperperson'].dropna())\n",
    "plt.xlabel('Electricity (kwH) per person')\n",
    "plt.ylabel('Number of countries')\n",
    "plt.title('Distribution of Relectricperperson variable')"
   ]
  },
  {
   "cell_type": "code",
   "execution_count": 41,
   "metadata": {},
   "outputs": [
    {
     "data": {
      "text/plain": [
       "count     136.000000\n",
       "mean     1173.178995\n",
       "std      1681.440173\n",
       "min         0.000000\n",
       "25%       203.652109\n",
       "50%       597.136436\n",
       "75%      1491.145249\n",
       "max     11154.755030\n",
       "Name: relectricperperson, dtype: float64"
      ]
     },
     "execution_count": 41,
     "metadata": {},
     "output_type": "execute_result"
    }
   ],
   "source": [
    "sub1['relectricperperson'].describe()"
   ]
  },
  {
   "cell_type": "code",
   "execution_count": 42,
   "metadata": {},
   "outputs": [
    {
     "data": {
      "text/plain": [
       "Text(0.5, 1.0, 'Distribution of Co2 Emissions variable')"
      ]
     },
     "execution_count": 42,
     "metadata": {},
     "output_type": "execute_result"
    },
    {
     "data": {
      "image/png": "[encoded data removed]",
      "text/plain": [
       "<Figure size 432x288 with 1 Axes>"
      ]
     },
     "metadata": {
      "needs_background": "light"
     },
     "output_type": "display_data"
    }
   ],
   "source": [
    "#Univariate histogram for co2emissions\n",
    "sns.histplot(sub1['co2emissions'].dropna())\n",
    "plt.xlabel('Co2 Emissions in metric tons')\n",
    "plt.ylabel('Number of countries')\n",
    "plt.yscale('log')\n",
    "plt.title('Distribution of Co2 Emissions variable')"
   ]
  },
  {
   "cell_type": "code",
   "execution_count": 43,
   "metadata": {},
   "outputs": [
    {
     "data": {
      "text/plain": [
       "count            200.000000\n",
       "mean      5030226183.337608\n",
       "std      25716667510.217167\n",
       "min           132000.000000\n",
       "25%         34846166.667500\n",
       "50%        185901833.350000\n",
       "75%       1846084166.500000\n",
       "max     334000000000.000000\n",
       "Name: co2emissions, dtype: float64"
      ]
     },
     "execution_count": 43,
     "metadata": {},
     "output_type": "execute_result"
    }
   ],
   "source": [
    "sub1['co2emissions'].describe()"
   ]
  },
  {
   "cell_type": "code",
   "execution_count": null,
   "metadata": {},
   "outputs": [],
   "source": []
  },
  {
   "cell_type": "markdown",
   "metadata": {},
   "source": [
    "## Bivariate Analysis of explanatory and response variable"
   ]
  },
  {
   "cell_type": "code",
   "execution_count": 44,
   "metadata": {},
   "outputs": [
    {
     "data": {
      "text/plain": [
       "Text(0.5, 1.0, 'Scatter plot for the Association between Oil consumed per person and Co2 Emissions in Countries')"
      ]
     },
     "execution_count": 44,
     "metadata": {},
     "output_type": "execute_result"
    },
    {
     "data": {
      "image/png": "[encoded data removed]",
      "text/plain": [
       "<Figure size 432x288 with 1 Axes>"
      ]
     },
     "metadata": {
      "needs_background": "light"
     },
     "output_type": "display_data"
    }
   ],
   "source": [
    "sns.regplot(x= sub1['oilperperson'], y= sub1['co2emissions'])\n",
    "plt.xlabel('Oil Per Person (tonnes)')\n",
    "plt.ylabel('Co2 Emissions (metric tons)')\n",
    "plt.title('Scatter plot for the Association between Oil consumed per person and Co2 Emissions in Countries')"
   ]
  },
  {
   "cell_type": "code",
   "execution_count": 45,
   "metadata": {},
   "outputs": [
    {
     "data": {
      "text/plain": [
       "Text(0.5, 1.0, 'Scatter plot for the Association between Electricity per person and Co2Emissions')"
      ]
     },
     "execution_count": 45,
     "metadata": {},
     "output_type": "execute_result"
    },
    {
     "data": {
      "image/png": "[encoded data removed]",
      "text/plain": [
       "<Figure size 432x288 with 1 Axes>"
      ]
     },
     "metadata": {
      "needs_background": "light"
     },
     "output_type": "display_data"
    }
   ],
   "source": [
    "sns.regplot(x = sub1['relectricperperson'], y = sub1['co2emissions'])\n",
    "plt.xlabel('Electricity Per Person (kwH)')\n",
    "plt.ylabel('Co2 Emissions (metric tons)')\n",
    "plt.title('Scatter plot for the Association between Electricity per person and Co2Emissions')"
   ]
  },
  {
   "cell_type": "code",
   "execution_count": 46,
   "metadata": {},
   "outputs": [
    {
     "data": {
      "text/plain": [
       "Text(0.5, 1.0, 'Scatter plot for the Association between Incomeperperson and Co2Emissions')"
      ]
     },
     "execution_count": 46,
     "metadata": {},
     "output_type": "execute_result"
    },
    {
     "data": {
      "image/png": "[encoded data removed]",
      "text/plain": [
       "<Figure size 432x288 with 1 Axes>"
      ]
     },
     "metadata": {
      "needs_background": "light"
     },
     "output_type": "display_data"
    }
   ],
   "source": [
    "sns.regplot(x = sub1['incomeperperson'], y = sub1['co2emissions'])\n",
    "plt.xlabel('Income Per Person')\n",
    "plt.ylabel('Co2 Emissions')\n",
    "plt.title('Scatter plot for the Association between Incomeperperson and Co2Emissions')"
   ]
  },
  {
   "cell_type": "markdown",
   "metadata": {},
   "source": [
    "### Grouping the three variables into four categories (low, lower-medium, upper-medium and high)"
   ]
  },
  {
   "cell_type": "code",
   "execution_count": 47,
   "metadata": {},
   "outputs": [],
   "source": [
    "sub1_copy = sub1.copy()"
   ]
  },
  {
   "cell_type": "code",
   "execution_count": 48,
   "metadata": {},
   "outputs": [],
   "source": [
    "sub1_copy['oilgrp4'] = pd.qcut(sub1_copy['oilperperson'], 4, labels=['low level', 'lower-medium level', 'upper-medium level', 'high level'])\n",
    "sub1_copy['incomegrp4'] = pd.qcut(sub1_copy['incomeperperson'], 4, labels=['low', 'lower-medium', 'upper-medium', 'high'])\n",
    "sub1_copy['relectricgrp4'] = pd.qcut(sub1_copy['relectricperperson'], 4, labels=['low level', 'lower-medium level', 'upper-medium level', 'high level'])"
   ]
  },
  {
   "cell_type": "code",
   "execution_count": 49,
   "metadata": {},
   "outputs": [],
   "source": [
    "c1 = sub1_copy['oilgrp4'].value_counts(sort=False, dropna=True)\n",
    "c2 = sub1_copy['incomegrp4'].value_counts(sort=False, dropna=True)\n",
    "c3 = sub1_copy['relectricgrp4'].value_counts(sort=False, dropna=True)"
   ]
  },
  {
   "cell_type": "code",
   "execution_count": 50,
   "metadata": {},
   "outputs": [
    {
     "name": "stdout",
     "output_type": "stream",
     "text": [
      "Oil per person - 4 categories - quartiles\n",
      "low level             16\n",
      "lower-medium level    16\n",
      "upper-medium level    15\n",
      "high level            16\n",
      "Name: oilgrp4, dtype: int64\n"
     ]
    }
   ],
   "source": [
    "print('Oil per person - 4 categories - quartiles')\n",
    "print(c1)"
   ]
  },
  {
   "cell_type": "code",
   "execution_count": 51,
   "metadata": {},
   "outputs": [
    {
     "name": "stdout",
     "output_type": "stream",
     "text": [
      "Income per person - 4 categories - quartiles\n",
      "low             48\n",
      "lower-medium    47\n",
      "upper-medium    47\n",
      "high            48\n",
      "Name: incomegrp4, dtype: int64\n"
     ]
    }
   ],
   "source": [
    "print('Income per person - 4 categories - quartiles')\n",
    "print(c2)"
   ]
  },
  {
   "cell_type": "code",
   "execution_count": 52,
   "metadata": {},
   "outputs": [
    {
     "name": "stdout",
     "output_type": "stream",
     "text": [
      "Residential Electric per person - 4 categories - quartiles\n",
      "low level             34\n",
      "lower-medium level    34\n",
      "upper-medium level    34\n",
      "high level            34\n",
      "Name: relectricgrp4, dtype: int64\n"
     ]
    }
   ],
   "source": [
    "print('Residential Electric per person - 4 categories - quartiles')\n",
    "print(c3)"
   ]
  },
  {
   "cell_type": "markdown",
   "metadata": {},
   "source": [
    "### Bivariate graph for categorical explanatory and quantitative response variable"
   ]
  },
  {
   "cell_type": "code",
   "execution_count": 53,
   "metadata": {},
   "outputs": [
    {
     "data": {
      "text/plain": [
       "Text(0.5, 1.0, 'Bivariate analysis of Oil Group and Co2 Emissions')"
      ]
     },
     "execution_count": 53,
     "metadata": {},
     "output_type": "execute_result"
    },
    {
     "data": {
      "image/png": "[encoded data removed]",
      "text/plain": [
       "<Figure size 360x360 with 1 Axes>"
      ]
     },
     "metadata": {
      "needs_background": "light"
     },
     "output_type": "display_data"
    }
   ],
   "source": [
    "sns.catplot(x='oilgrp4', y='co2emissions', data=sub1_copy, kind='bar', ci=None)\n",
    "plt.xlabel('Oil Consumption Group')\n",
    "plt.ylabel('Co2 Emissions')\n",
    "plt.title('Bivariate analysis of Oil Group and Co2 Emissions')"
   ]
  },
  {
   "cell_type": "code",
   "execution_count": 54,
   "metadata": {},
   "outputs": [
    {
     "data": {
      "text/plain": [
       "Text(0.5, 1.0, 'Bivariate analysis of Electric Group and Co2 Emissions')"
      ]
     },
     "execution_count": 54,
     "metadata": {},
     "output_type": "execute_result"
    },
    {
     "data": {
      "image/png": "[encoded data removed]",
      "text/plain": [
       "<Figure size 360x360 with 1 Axes>"
      ]
     },
     "metadata": {
      "needs_background": "light"
     },
     "output_type": "display_data"
    }
   ],
   "source": [
    "sns.catplot(x='relectricgrp4', y='co2emissions', data=sub1_copy, kind='bar', ci=None)\n",
    "plt.xlabel('Electric Consumption Group')\n",
    "plt.ylabel('Co2 Emissions')\n",
    "plt.title('Bivariate analysis of Electric Group and Co2 Emissions')"
   ]
  },
  {
   "cell_type": "code",
   "execution_count": 55,
   "metadata": {},
   "outputs": [
    {
     "data": {
      "text/plain": [
       "Text(6.799999999999997, 0.5, 'Co2 Emissions')"
      ]
     },
     "execution_count": 55,
     "metadata": {},
     "output_type": "execute_result"
    },
    {
     "data": {
      "image/png": "[encoded data removed]",
      "text/plain": [
       "<Figure size 360x360 with 1 Axes>"
      ]
     },
     "metadata": {
      "needs_background": "light"
     },
     "output_type": "display_data"
    }
   ],
   "source": [
    "sns.catplot(x='incomegrp4', y='co2emissions', data=sub1_copy, kind='bar', ci=None)\n",
    "plt.xlabel('Income Group')\n",
    "plt.ylabel('Co2 Emissions')"
   ]
  },
  {
   "cell_type": "markdown",
   "metadata": {},
   "source": [
    "----"
   ]
  },
  {
   "cell_type": "markdown",
   "metadata": {},
   "source": [
    "### Refined research questions and hypothesis:\n",
    "Ho(null hypothesis) : The level of oil and electricity consumption does not have an association with the carbon dioxide emitted in the environment.\n",
    "Ha(alternative hypothesis) : The level of oil and electricity consumption is asscoiated with the carbon dioxide emitted in the environment.\n",
    "\n",
    "Research Questions : 1) Does the level of oil consumed have an association with the carbondioxide emitted in the environment\n",
    "                     2) Does the level of electricty consumed have an association with the carbob dioxide emitted in the     environment"
   ]
  },
  {
   "cell_type": "markdown",
   "metadata": {},
   "source": [
    "### Performing Statistical test:  ANOVA (f test)"
   ]
  },
  {
   "cell_type": "markdown",
   "metadata": {},
   "source": [
    "#### For oil consumption and co2 emitted:"
   ]
  },
  {
   "cell_type": "code",
   "execution_count": 56,
   "metadata": {},
   "outputs": [
    {
     "name": "stdout",
     "output_type": "stream",
     "text": [
      "                            OLS Regression Results                            \n",
      "==============================================================================\n",
      "Dep. Variable:           co2emissions   R-squared:                       0.029\n",
      "Model:                            OLS   Adj. R-squared:                 -0.020\n",
      "Method:                 Least Squares   F-statistic:                    0.5854\n",
      "Date:                Sun, 25 Oct 2020   Prob (F-statistic):              0.627\n",
      "Time:                        13:21:23   Log-Likelihood:                -1632.4\n",
      "No. Observations:                  63   AIC:                             3273.\n",
      "Df Residuals:                      59   BIC:                             3281.\n",
      "Df Model:                           3                                         \n",
      "Covariance Type:            nonrobust                                         \n",
      "====================================================================================================\n",
      "                                       coef    std err          t      P>|t|      [0.025      0.975]\n",
      "----------------------------------------------------------------------------------------------------\n",
      "Intercept                         1.175e+10   1.12e+10      1.049      0.298   -1.07e+10    3.41e+10\n",
      "C(oilgrp4)[T.lower-medium level] -5.615e+09   1.58e+10     -0.355      0.724   -3.73e+10    2.61e+10\n",
      "C(oilgrp4)[T.upper-medium level]  5.321e+09   1.61e+10      0.331      0.742   -2.69e+10    3.75e+10\n",
      "C(oilgrp4)[T.high level]          1.453e+10   1.58e+10      0.918      0.363   -1.71e+10    4.62e+10\n",
      "==============================================================================\n",
      "Omnibus:                      115.448   Durbin-Watson:                   1.739\n",
      "Prob(Omnibus):                  0.000   Jarque-Bera (JB):             4096.828\n",
      "Skew:                           5.833   Prob(JB):                         0.00\n",
      "Kurtosis:                      40.744   Cond. No.                         4.76\n",
      "==============================================================================\n",
      "\n",
      "Notes:\n",
      "[1] Standard Errors assume that the covariance matrix of the errors is correctly specified.\n"
     ]
    }
   ],
   "source": [
    "model1 = smf.ols(formula='co2emissions ~ C(oilgrp4)', data=sub1_copy)\n",
    "results1 = model1.fit()\n",
    "print(results1.summary())"
   ]
  },
  {
   "cell_type": "code",
   "execution_count": 57,
   "metadata": {},
   "outputs": [],
   "source": [
    "sub1_oilgrp = sub1_copy[['co2emissions', 'oilgrp4']].dropna()"
   ]
  },
  {
   "cell_type": "code",
   "execution_count": 58,
   "metadata": {},
   "outputs": [
    {
     "name": "stdout",
     "output_type": "stream",
     "text": [
      "means for co2emissions by level of oil consumption\n",
      "                         co2emissions\n",
      "oilgrp4                              \n",
      "low level          11745679125.043751\n",
      "lower-medium level  6131116979.075000\n",
      "upper-medium level 17066350155.580000\n",
      "high level         26272149770.875000\n"
     ]
    }
   ],
   "source": [
    "print('means for co2emissions by level of oil consumption')\n",
    "m1 = sub1_oilgrp.groupby('oilgrp4').mean()\n",
    "print(m1)"
   ]
  },
  {
   "cell_type": "code",
   "execution_count": 59,
   "metadata": {},
   "outputs": [
    {
     "name": "stdout",
     "output_type": "stream",
     "text": [
      "standard deviations for co2emissions by level of oil consumption\n",
      "                         co2emissions\n",
      "oilgrp4                              \n",
      "low level          24938402982.159180\n",
      "lower-medium level  7520731639.301509\n",
      "upper-medium level 21515181728.248562\n",
      "high level         82304085858.993439\n"
     ]
    }
   ],
   "source": [
    "print('standard deviations for co2emissions by level of oil consumption')\n",
    "sd1 = sub1_oilgrp.groupby('oilgrp4').std()\n",
    "print(sd1)"
   ]
  },
  {
   "cell_type": "markdown",
   "metadata": {},
   "source": [
    "#### For Electrcity consumption and Co2 emissions:"
   ]
  },
  {
   "cell_type": "code",
   "execution_count": 60,
   "metadata": {},
   "outputs": [],
   "source": [
    "sub1_electricgrp = sub1_copy[['co2emissions', 'relectricgrp4']].dropna()"
   ]
  },
  {
   "cell_type": "code",
   "execution_count": 61,
   "metadata": {},
   "outputs": [
    {
     "name": "stdout",
     "output_type": "stream",
     "text": [
      "The means of co2emissions by level of electricity consumed\n",
      "                         co2emissions\n",
      "relectricgrp4                        \n",
      "low level           1460316647.085382\n",
      "lower-medium level  5052569990.197942\n",
      "upper-medium level  4514273444.432424\n",
      "high level         19205925898.998787\n"
     ]
    }
   ],
   "source": [
    "print('The means of co2emissions by level of electricity consumed')\n",
    "m2 = sub1_electricgrp.groupby('relectricgrp4').mean()\n",
    "print(m2)"
   ]
  },
  {
   "cell_type": "code",
   "execution_count": 62,
   "metadata": {},
   "outputs": [
    {
     "name": "stdout",
     "output_type": "stream",
     "text": [
      "The standard deviations of co2emissions by level of electricity consumed\n",
      "                         co2emissions\n",
      "relectricgrp4                        \n",
      "low level           5245444399.843637\n",
      "lower-medium level 17226232137.959614\n",
      "upper-medium level  6603789076.486851\n",
      "high level         58839542791.522667\n"
     ]
    }
   ],
   "source": [
    "print('The standard deviations of co2emissions by level of electricity consumed')\n",
    "sd2 = sub1_electricgrp.groupby('relectricgrp4').std()\n",
    "print(sd2)"
   ]
  },
  {
   "cell_type": "code",
   "execution_count": 63,
   "metadata": {},
   "outputs": [
    {
     "name": "stdout",
     "output_type": "stream",
     "text": [
      "                            OLS Regression Results                            \n",
      "==============================================================================\n",
      "Dep. Variable:           co2emissions   R-squared:                       0.048\n",
      "Model:                            OLS   Adj. R-squared:                  0.027\n",
      "Method:                 Least Squares   F-statistic:                     2.208\n",
      "Date:                Sun, 25 Oct 2020   Prob (F-statistic):             0.0903\n",
      "Time:                        13:21:24   Log-Likelihood:                -3424.1\n",
      "No. Observations:                 134   AIC:                             6856.\n",
      "Df Residuals:                     130   BIC:                             6868.\n",
      "Df Model:                           3                                         \n",
      "Covariance Type:            nonrobust                                         \n",
      "==========================================================================================================\n",
      "                                             coef    std err          t      P>|t|      [0.025      0.975]\n",
      "----------------------------------------------------------------------------------------------------------\n",
      "Intercept                                1.46e+09   5.27e+09      0.277      0.782   -8.97e+09    1.19e+10\n",
      "C(relectricgrp4)[T.lower-medium level]  3.592e+09   7.46e+09      0.482      0.631   -1.12e+10    1.83e+10\n",
      "C(relectricgrp4)[T.upper-medium level]  3.054e+09   7.51e+09      0.406      0.685   -1.18e+10    1.79e+10\n",
      "C(relectricgrp4)[T.high level]          1.775e+10   7.51e+09      2.362      0.020    2.88e+09    3.26e+10\n",
      "==============================================================================\n",
      "Omnibus:                      250.007   Durbin-Watson:                   1.770\n",
      "Prob(Omnibus):                  0.000   Jarque-Bera (JB):            42011.059\n",
      "Skew:                           8.646   Prob(JB):                         0.00\n",
      "Kurtosis:                      88.002   Cond. No.                         4.76\n",
      "==============================================================================\n",
      "\n",
      "Notes:\n",
      "[1] Standard Errors assume that the covariance matrix of the errors is correctly specified.\n"
     ]
    }
   ],
   "source": [
    "model2 = smf.ols(formula='co2emissions ~ C(relectricgrp4)', data=sub1_electricgrp).fit()\n",
    "print(model2.summary())"
   ]
  },
  {
   "cell_type": "markdown",
   "metadata": {},
   "source": [
    "## Added 2010 Country population to calculate the indicators for all country population"
   ]
  },
  {
   "cell_type": "code",
   "execution_count": 64,
   "metadata": {},
   "outputs": [],
   "source": [
    "population_df = pd.read_csv('course files/population_total.csv')\n"
   ]
  },
  {
   "cell_type": "code",
   "execution_count": 65,
   "metadata": {},
   "outputs": [
    {
     "data": {
      "text/html": [
       "<div>\n",
       "<style scoped>\n",
       "    .dataframe tbody tr th:only-of-type {\n",
       "        vertical-align: middle;\n",
       "    }\n",
       "\n",
       "    .dataframe tbody tr th {\n",
       "        vertical-align: top;\n",
       "    }\n",
       "\n",
       "    .dataframe thead th {\n",
       "        text-align: right;\n",
       "    }\n",
       "</style>\n",
       "<table border=\"1\" class=\"dataframe\">\n",
       "  <thead>\n",
       "    <tr style=\"text-align: right;\">\n",
       "      <th></th>\n",
       "      <th>country</th>\n",
       "      <th>population</th>\n",
       "    </tr>\n",
       "  </thead>\n",
       "  <tbody>\n",
       "    <tr>\n",
       "      <th>0</th>\n",
       "      <td>Afghanistan</td>\n",
       "      <td>29200000</td>\n",
       "    </tr>\n",
       "    <tr>\n",
       "      <th>1</th>\n",
       "      <td>Albania</td>\n",
       "      <td>2950000</td>\n",
       "    </tr>\n",
       "    <tr>\n",
       "      <th>2</th>\n",
       "      <td>Algeria</td>\n",
       "      <td>36000000</td>\n",
       "    </tr>\n",
       "    <tr>\n",
       "      <th>3</th>\n",
       "      <td>Andorra</td>\n",
       "      <td>84500</td>\n",
       "    </tr>\n",
       "    <tr>\n",
       "      <th>4</th>\n",
       "      <td>Angola</td>\n",
       "      <td>23400000</td>\n",
       "    </tr>\n",
       "  </tbody>\n",
       "</table>\n",
       "</div>"
      ],
      "text/plain": [
       "       country  population\n",
       "0  Afghanistan    29200000\n",
       "1      Albania     2950000\n",
       "2      Algeria    36000000\n",
       "3      Andorra       84500\n",
       "4       Angola    23400000"
      ]
     },
     "execution_count": 65,
     "metadata": {},
     "output_type": "execute_result"
    }
   ],
   "source": [
    "population_2010 = population_df[['country', '2010']]\n",
    "population_2010.columns = ['country', 'population'] \n",
    "population_2010.head()"
   ]
  },
  {
   "cell_type": "code",
   "execution_count": 66,
   "metadata": {},
   "outputs": [
    {
     "data": {
      "text/html": [
       "<div>\n",
       "<style scoped>\n",
       "    .dataframe tbody tr th:only-of-type {\n",
       "        vertical-align: middle;\n",
       "    }\n",
       "\n",
       "    .dataframe tbody tr th {\n",
       "        vertical-align: top;\n",
       "    }\n",
       "\n",
       "    .dataframe thead th {\n",
       "        text-align: right;\n",
       "    }\n",
       "</style>\n",
       "<table border=\"1\" class=\"dataframe\">\n",
       "  <thead>\n",
       "    <tr style=\"text-align: right;\">\n",
       "      <th></th>\n",
       "      <th>country</th>\n",
       "      <th>incomeperperson</th>\n",
       "      <th>oilperperson</th>\n",
       "      <th>co2emissions</th>\n",
       "      <th>relectricperperson</th>\n",
       "      <th>population</th>\n",
       "    </tr>\n",
       "  </thead>\n",
       "  <tbody>\n",
       "    <tr>\n",
       "      <th>0</th>\n",
       "      <td>Afghanistan</td>\n",
       "      <td>nan</td>\n",
       "      <td>nan</td>\n",
       "      <td>75944000.000000</td>\n",
       "      <td>nan</td>\n",
       "      <td>29200000</td>\n",
       "    </tr>\n",
       "    <tr>\n",
       "      <th>1</th>\n",
       "      <td>Albania</td>\n",
       "      <td>1914.996551</td>\n",
       "      <td>nan</td>\n",
       "      <td>223747333.300000</td>\n",
       "      <td>636.341383</td>\n",
       "      <td>2950000</td>\n",
       "    </tr>\n",
       "    <tr>\n",
       "      <th>2</th>\n",
       "      <td>Algeria</td>\n",
       "      <td>2231.993335</td>\n",
       "      <td>0.420095</td>\n",
       "      <td>2932108667.000000</td>\n",
       "      <td>590.509814</td>\n",
       "      <td>36000000</td>\n",
       "    </tr>\n",
       "    <tr>\n",
       "      <th>3</th>\n",
       "      <td>Andorra</td>\n",
       "      <td>21943.339900</td>\n",
       "      <td>nan</td>\n",
       "      <td>nan</td>\n",
       "      <td>nan</td>\n",
       "      <td>84500</td>\n",
       "    </tr>\n",
       "    <tr>\n",
       "      <th>4</th>\n",
       "      <td>Angola</td>\n",
       "      <td>1381.004268</td>\n",
       "      <td>nan</td>\n",
       "      <td>248358000.000000</td>\n",
       "      <td>172.999227</td>\n",
       "      <td>23400000</td>\n",
       "    </tr>\n",
       "    <tr>\n",
       "      <th>5</th>\n",
       "      <td>Argentina</td>\n",
       "      <td>10749.419240</td>\n",
       "      <td>0.635944</td>\n",
       "      <td>5872119000.000000</td>\n",
       "      <td>768.428300</td>\n",
       "      <td>40900000</td>\n",
       "    </tr>\n",
       "    <tr>\n",
       "      <th>6</th>\n",
       "      <td>Armenia</td>\n",
       "      <td>1326.741757</td>\n",
       "      <td>nan</td>\n",
       "      <td>51219666.670000</td>\n",
       "      <td>603.763058</td>\n",
       "      <td>2880000</td>\n",
       "    </tr>\n",
       "    <tr>\n",
       "      <th>7</th>\n",
       "      <td>Australia</td>\n",
       "      <td>25249.986060</td>\n",
       "      <td>1.913026</td>\n",
       "      <td>12970092667.000000</td>\n",
       "      <td>2825.391095</td>\n",
       "      <td>22200000</td>\n",
       "    </tr>\n",
       "    <tr>\n",
       "      <th>8</th>\n",
       "      <td>Austria</td>\n",
       "      <td>26692.984110</td>\n",
       "      <td>1.548791</td>\n",
       "      <td>4466084333.000000</td>\n",
       "      <td>2068.123309</td>\n",
       "      <td>8410000</td>\n",
       "    </tr>\n",
       "    <tr>\n",
       "      <th>9</th>\n",
       "      <td>Azerbaijan</td>\n",
       "      <td>2344.896916</td>\n",
       "      <td>0.359173</td>\n",
       "      <td>511107666.700000</td>\n",
       "      <td>921.562111</td>\n",
       "      <td>9030000</td>\n",
       "    </tr>\n",
       "  </tbody>\n",
       "</table>\n",
       "</div>"
      ],
      "text/plain": [
       "       country  incomeperperson  oilperperson       co2emissions  \\\n",
       "0  Afghanistan              nan           nan    75944000.000000   \n",
       "1      Albania      1914.996551           nan   223747333.300000   \n",
       "2      Algeria      2231.993335      0.420095  2932108667.000000   \n",
       "3      Andorra     21943.339900           nan                nan   \n",
       "4       Angola      1381.004268           nan   248358000.000000   \n",
       "5    Argentina     10749.419240      0.635944  5872119000.000000   \n",
       "6      Armenia      1326.741757           nan    51219666.670000   \n",
       "7    Australia     25249.986060      1.913026 12970092667.000000   \n",
       "8      Austria     26692.984110      1.548791  4466084333.000000   \n",
       "9   Azerbaijan      2344.896916      0.359173   511107666.700000   \n",
       "\n",
       "   relectricperperson  population  \n",
       "0                 nan    29200000  \n",
       "1          636.341383     2950000  \n",
       "2          590.509814    36000000  \n",
       "3                 nan       84500  \n",
       "4          172.999227    23400000  \n",
       "5          768.428300    40900000  \n",
       "6          603.763058     2880000  \n",
       "7         2825.391095    22200000  \n",
       "8         2068.123309     8410000  \n",
       "9          921.562111     9030000  "
      ]
     },
     "execution_count": 66,
     "metadata": {},
     "output_type": "execute_result"
    }
   ],
   "source": [
    "sub1_updated = sub1.merge(population_2010, on='country')\n",
    "sub1_updated.head(10)"
   ]
  },
  {
   "cell_type": "code",
   "execution_count": 67,
   "metadata": {},
   "outputs": [
    {
     "data": {
      "text/html": [
       "<div>\n",
       "<style scoped>\n",
       "    .dataframe tbody tr th:only-of-type {\n",
       "        vertical-align: middle;\n",
       "    }\n",
       "\n",
       "    .dataframe tbody tr th {\n",
       "        vertical-align: top;\n",
       "    }\n",
       "\n",
       "    .dataframe thead th {\n",
       "        text-align: right;\n",
       "    }\n",
       "</style>\n",
       "<table border=\"1\" class=\"dataframe\">\n",
       "  <thead>\n",
       "    <tr style=\"text-align: right;\">\n",
       "      <th></th>\n",
       "      <th>country</th>\n",
       "      <th>incomeperperson</th>\n",
       "      <th>oilperperson</th>\n",
       "      <th>co2emissions</th>\n",
       "      <th>relectricperperson</th>\n",
       "    </tr>\n",
       "  </thead>\n",
       "  <tbody>\n",
       "    <tr>\n",
       "      <th>0</th>\n",
       "      <td>Afghanistan</td>\n",
       "      <td>nan</td>\n",
       "      <td>nan</td>\n",
       "      <td>75944000.000000</td>\n",
       "      <td>nan</td>\n",
       "    </tr>\n",
       "    <tr>\n",
       "      <th>1</th>\n",
       "      <td>Albania</td>\n",
       "      <td>1914.996551</td>\n",
       "      <td>nan</td>\n",
       "      <td>223747333.300000</td>\n",
       "      <td>636.341383</td>\n",
       "    </tr>\n",
       "    <tr>\n",
       "      <th>2</th>\n",
       "      <td>Algeria</td>\n",
       "      <td>2231.993335</td>\n",
       "      <td>0.420095</td>\n",
       "      <td>2932108667.000000</td>\n",
       "      <td>590.509814</td>\n",
       "    </tr>\n",
       "    <tr>\n",
       "      <th>3</th>\n",
       "      <td>Andorra</td>\n",
       "      <td>21943.339900</td>\n",
       "      <td>nan</td>\n",
       "      <td>nan</td>\n",
       "      <td>nan</td>\n",
       "    </tr>\n",
       "    <tr>\n",
       "      <th>4</th>\n",
       "      <td>Angola</td>\n",
       "      <td>1381.004268</td>\n",
       "      <td>nan</td>\n",
       "      <td>248358000.000000</td>\n",
       "      <td>172.999227</td>\n",
       "    </tr>\n",
       "  </tbody>\n",
       "</table>\n",
       "</div>"
      ],
      "text/plain": [
       "       country  incomeperperson  oilperperson      co2emissions  \\\n",
       "0  Afghanistan              nan           nan   75944000.000000   \n",
       "1      Albania      1914.996551           nan  223747333.300000   \n",
       "2      Algeria      2231.993335      0.420095 2932108667.000000   \n",
       "3      Andorra     21943.339900           nan               nan   \n",
       "4       Angola      1381.004268           nan  248358000.000000   \n",
       "\n",
       "   relectricperperson  \n",
       "0                 nan  \n",
       "1          636.341383  \n",
       "2          590.509814  \n",
       "3                 nan  \n",
       "4          172.999227  "
      ]
     },
     "execution_count": 67,
     "metadata": {},
     "output_type": "execute_result"
    }
   ],
   "source": [
    "sub1.head()"
   ]
  },
  {
   "cell_type": "code",
   "execution_count": 68,
   "metadata": {},
   "outputs": [
    {
     "data": {
      "text/html": [
       "<div>\n",
       "<style scoped>\n",
       "    .dataframe tbody tr th:only-of-type {\n",
       "        vertical-align: middle;\n",
       "    }\n",
       "\n",
       "    .dataframe tbody tr th {\n",
       "        vertical-align: top;\n",
       "    }\n",
       "\n",
       "    .dataframe thead th {\n",
       "        text-align: right;\n",
       "    }\n",
       "</style>\n",
       "<table border=\"1\" class=\"dataframe\">\n",
       "  <thead>\n",
       "    <tr style=\"text-align: right;\">\n",
       "      <th></th>\n",
       "      <th>country</th>\n",
       "      <th>totalIncome</th>\n",
       "      <th>totalOilConsumed</th>\n",
       "      <th>totalElectricConsumed</th>\n",
       "      <th>co2emissions</th>\n",
       "    </tr>\n",
       "  </thead>\n",
       "  <tbody>\n",
       "    <tr>\n",
       "      <th>0</th>\n",
       "      <td>Afghanistan</td>\n",
       "      <td>nan</td>\n",
       "      <td>nan</td>\n",
       "      <td>nan</td>\n",
       "      <td>75944000.000000</td>\n",
       "    </tr>\n",
       "    <tr>\n",
       "      <th>1</th>\n",
       "      <td>Albania</td>\n",
       "      <td>5649239825.450001</td>\n",
       "      <td>nan</td>\n",
       "      <td>1877207081.030000</td>\n",
       "      <td>223747333.300000</td>\n",
       "    </tr>\n",
       "    <tr>\n",
       "      <th>2</th>\n",
       "      <td>Algeria</td>\n",
       "      <td>80351760060.000000</td>\n",
       "      <td>15123402.900000</td>\n",
       "      <td>21258353314.799995</td>\n",
       "      <td>2932108667.000000</td>\n",
       "    </tr>\n",
       "    <tr>\n",
       "      <th>3</th>\n",
       "      <td>Andorra</td>\n",
       "      <td>1854212221.550000</td>\n",
       "      <td>nan</td>\n",
       "      <td>nan</td>\n",
       "      <td>nan</td>\n",
       "    </tr>\n",
       "    <tr>\n",
       "      <th>4</th>\n",
       "      <td>Angola</td>\n",
       "      <td>32315499871.199997</td>\n",
       "      <td>nan</td>\n",
       "      <td>4048181921.160000</td>\n",
       "      <td>248358000.000000</td>\n",
       "    </tr>\n",
       "  </tbody>\n",
       "</table>\n",
       "</div>"
      ],
      "text/plain": [
       "       country        totalIncome  totalOilConsumed  totalElectricConsumed  \\\n",
       "0  Afghanistan                nan               nan                    nan   \n",
       "1      Albania  5649239825.450001               nan      1877207081.030000   \n",
       "2      Algeria 80351760060.000000   15123402.900000     21258353314.799995   \n",
       "3      Andorra  1854212221.550000               nan                    nan   \n",
       "4       Angola 32315499871.199997               nan      4048181921.160000   \n",
       "\n",
       "       co2emissions  \n",
       "0   75944000.000000  \n",
       "1  223747333.300000  \n",
       "2 2932108667.000000  \n",
       "3               nan  \n",
       "4  248358000.000000  "
      ]
     },
     "execution_count": 68,
     "metadata": {},
     "output_type": "execute_result"
    }
   ],
   "source": [
    "sub2 = sub1_updated.copy()\n",
    "sub2['totalIncome'] = sub2['incomeperperson'] * sub2['population']\n",
    "sub2['totalOilConsumed'] = sub2['oilperperson'] * sub2['population']\n",
    "sub2['totalElectricConsumed'] = sub2['relectricperperson'] * sub2['population']\n",
    "sub2 = sub2[['country', 'totalIncome', 'totalOilConsumed', 'totalElectricConsumed', 'co2emissions']]\n",
    "sub2.head()"
   ]
  },
  {
   "cell_type": "markdown",
   "metadata": {},
   "source": [
    "### Display histograms for the quantitative variables in the dataset"
   ]
  },
  {
   "cell_type": "code",
   "execution_count": 69,
   "metadata": {},
   "outputs": [
    {
     "data": {
      "text/plain": [
       "<AxesSubplot:xlabel='totalOilConsumed', ylabel='Count'>"
      ]
     },
     "execution_count": 69,
     "metadata": {},
     "output_type": "execute_result"
    },
    {
     "data": {
      "image/png": "[encoded data removed]",
      "text/plain": [
       "<Figure size 432x288 with 1 Axes>"
      ]
     },
     "metadata": {
      "needs_background": "light"
     },
     "output_type": "display_data"
    }
   ],
   "source": [
    "sns.histplot(sub2['totalOilConsumed'])\n"
   ]
  },
  {
   "cell_type": "code",
   "execution_count": 70,
   "metadata": {},
   "outputs": [
    {
     "data": {
      "text/plain": [
       "<AxesSubplot:xlabel='totalElectricConsumed', ylabel='Count'>"
      ]
     },
     "execution_count": 70,
     "metadata": {},
     "output_type": "execute_result"
    },
    {
     "data": {
      "image/png": "[encoded data removed]",
      "text/plain": [
       "<Figure size 432x288 with 1 Axes>"
      ]
     },
     "metadata": {
      "needs_background": "light"
     },
     "output_type": "display_data"
    }
   ],
   "source": [
    "sns.histplot(sub2['totalElectricConsumed'])"
   ]
  },
  {
   "cell_type": "code",
   "execution_count": 71,
   "metadata": {},
   "outputs": [
    {
     "data": {
      "text/plain": [
       "<AxesSubplot:xlabel='totalIncome', ylabel='Count'>"
      ]
     },
     "execution_count": 71,
     "metadata": {},
     "output_type": "execute_result"
    },
    {
     "data": {
      "image/png": "[encoded data removed]",
      "text/plain": [
       "<Figure size 432x288 with 1 Axes>"
      ]
     },
     "metadata": {
      "needs_background": "light"
     },
     "output_type": "display_data"
    }
   ],
   "source": [
    "sns.histplot(sub2['totalIncome'])"
   ]
  },
  {
   "cell_type": "code",
   "execution_count": null,
   "metadata": {},
   "outputs": [],
   "source": []
  },
  {
   "cell_type": "markdown",
   "metadata": {},
   "source": [
    "### Display measures of shape and spread"
   ]
  },
  {
   "cell_type": "code",
   "execution_count": 72,
   "metadata": {},
   "outputs": [
    {
     "name": "stdout",
     "output_type": "stream",
     "text": [
      "count             148.000000\n",
      "mean     171278329352.306458\n",
      "std      555876778048.392700\n",
      "min          18006900.345000\n",
      "25%        3447239904.550000\n",
      "50%       16817484141.209999\n",
      "75%      111152419562.299988\n",
      "max     5070922772940.000000\n",
      "Name: totalIncome, dtype: float64\n"
     ]
    }
   ],
   "source": [
    "totalIncome = sub2['totalIncome'].describe()\n",
    "print(totalIncome)"
   ]
  },
  {
   "cell_type": "code",
   "execution_count": 89,
   "metadata": {},
   "outputs": [
    {
     "name": "stdout",
     "output_type": "stream",
     "text": [
      "count          52.000000\n",
      "mean     46667730.990138\n",
      "std      71427634.220849\n",
      "min       2534592.646560\n",
      "25%       9982874.416508\n",
      "50%      16437652.584150\n",
      "75%      60779988.806175\n",
      "max     437759345.530000\n",
      "Name: totalOilConsumed, dtype: float64\n"
     ]
    }
   ],
   "source": [
    "totalOil = sub2['totalOilConsumed'].describe()\n",
    "print(totalOil)"
   ]
  },
  {
   "cell_type": "code",
   "execution_count": 90,
   "metadata": {},
   "outputs": [
    {
     "name": "stdout",
     "output_type": "stream",
     "text": [
      "count            111.000000\n",
      "mean     25671507345.838070\n",
      "std      58364860627.385704\n",
      "min                0.000000\n",
      "25%       1848993383.790000\n",
      "50%       6753752908.790000\n",
      "75%      21667603036.785000\n",
      "max     453985985839.999939\n",
      "Name: totalElectricConsumed, dtype: float64\n"
     ]
    }
   ],
   "source": [
    "totalElectric = sub2['totalElectricConsumed'].describe()\n",
    "print(totalElectric)"
   ]
  },
  {
   "cell_type": "code",
   "execution_count": 91,
   "metadata": {},
   "outputs": [
    {
     "name": "stdout",
     "output_type": "stream",
     "text": [
      "count            146.000000\n",
      "mean      3741369815.076869\n",
      "std      10943733349.472486\n",
      "min           850666.666700\n",
      "25%         53697416.667500\n",
      "50%        276457500.000000\n",
      "75%       2372442416.500000\n",
      "max     101000000000.000000\n",
      "Name: co2emissions, dtype: float64\n"
     ]
    }
   ],
   "source": [
    "Co2Emissions = sub2['co2emissions'].describe()\n",
    "print(Co2Emissions)"
   ]
  },
  {
   "cell_type": "markdown",
   "metadata": {},
   "source": [
    "### Bivariate analysis of explanatory variable and response variable (scatterplot)"
   ]
  },
  {
   "cell_type": "code",
   "execution_count": 92,
   "metadata": {},
   "outputs": [
    {
     "data": {
      "text/plain": [
       "Text(0.5, 1.0, ' Scatter plot for the Association between total electricity consumed and Co2 emitted')"
      ]
     },
     "execution_count": 92,
     "metadata": {},
     "output_type": "execute_result"
    },
    {
     "data": {
      "image/png": "[encoded data removed]",
      "text/plain": [
       "<Figure size 432x288 with 1 Axes>"
      ]
     },
     "metadata": {
      "needs_background": "light"
     },
     "output_type": "display_data"
    }
   ],
   "source": [
    "sns.regplot(x= sub2['totalElectricConsumed'], y = sub2['co2emissions'])\n",
    "plt.xlabel('Total Electricity Consumed (per year)')\n",
    "plt.ylabel('Co2 emissions (metric tons) ')\n",
    "plt.title(' Scatter plot for the Association between total electricity consumed and Co2 emitted', fontsize=12)"
   ]
  },
  {
   "cell_type": "code",
   "execution_count": 93,
   "metadata": {},
   "outputs": [
    {
     "data": {
      "text/plain": [
       "Text(0.5, 1.0, ' Scatter plot for the Association between total oil consumed and Co2 emitted')"
      ]
     },
     "execution_count": 93,
     "metadata": {},
     "output_type": "execute_result"
    },
    {
     "data": {
      "image/png": "[encoded data removed]",
      "text/plain": [
       "<Figure size 432x288 with 1 Axes>"
      ]
     },
     "metadata": {
      "needs_background": "light"
     },
     "output_type": "display_data"
    }
   ],
   "source": [
    "sns.regplot(x = sub2['totalOilConsumed'], y = sub2['co2emissions'])\n",
    "plt.xlabel('Total Oil Consumed (per year)')\n",
    "plt.ylabel('Co2 emissions (metric tons) ')\n",
    "plt.title(' Scatter plot for the Association between total oil consumed and Co2 emitted', fontsize=12)"
   ]
  },
  {
   "cell_type": "code",
   "execution_count": 94,
   "metadata": {
    "scrolled": true
   },
   "outputs": [
    {
     "data": {
      "text/plain": [
       "Text(0.5, 1.0, ' Scatter plot for the Association between total GDP (of one year) and Co2 emitted')"
      ]
     },
     "execution_count": 94,
     "metadata": {},
     "output_type": "execute_result"
    },
    {
     "data": {
      "image/png": "[encoded data removed]",
      "text/plain": [
       "<Figure size 432x288 with 1 Axes>"
      ]
     },
     "metadata": {
      "needs_background": "light"
     },
     "output_type": "display_data"
    }
   ],
   "source": [
    "sns.regplot(x = sub2['totalIncome'], y= sub2['co2emissions'])\n",
    "plt.xlabel('Total GDP (of one year)')\n",
    "plt.ylabel('Co2 emissions (metric tons) ')\n",
    "plt.title(' Scatter plot for the Association between total GDP (of one year) and Co2 emitted', fontsize=12)"
   ]
  },
  {
   "cell_type": "code",
   "execution_count": 77,
   "metadata": {},
   "outputs": [
    {
     "data": {
      "text/html": [
       "<div>\n",
       "<style scoped>\n",
       "    .dataframe tbody tr th:only-of-type {\n",
       "        vertical-align: middle;\n",
       "    }\n",
       "\n",
       "    .dataframe tbody tr th {\n",
       "        vertical-align: top;\n",
       "    }\n",
       "\n",
       "    .dataframe thead th {\n",
       "        text-align: right;\n",
       "    }\n",
       "</style>\n",
       "<table border=\"1\" class=\"dataframe\">\n",
       "  <thead>\n",
       "    <tr style=\"text-align: right;\">\n",
       "      <th></th>\n",
       "      <th>country</th>\n",
       "      <th>totalIncome</th>\n",
       "      <th>totalOilConsumed</th>\n",
       "      <th>totalElectricConsumed</th>\n",
       "      <th>co2emissions</th>\n",
       "    </tr>\n",
       "  </thead>\n",
       "  <tbody>\n",
       "    <tr>\n",
       "      <th>0</th>\n",
       "      <td>Afghanistan</td>\n",
       "      <td>nan</td>\n",
       "      <td>nan</td>\n",
       "      <td>nan</td>\n",
       "      <td>75944000.000000</td>\n",
       "    </tr>\n",
       "    <tr>\n",
       "      <th>1</th>\n",
       "      <td>Albania</td>\n",
       "      <td>5649239825.450001</td>\n",
       "      <td>nan</td>\n",
       "      <td>1877207081.030000</td>\n",
       "      <td>223747333.300000</td>\n",
       "    </tr>\n",
       "    <tr>\n",
       "      <th>2</th>\n",
       "      <td>Algeria</td>\n",
       "      <td>80351760060.000000</td>\n",
       "      <td>15123402.900000</td>\n",
       "      <td>21258353314.799995</td>\n",
       "      <td>2932108667.000000</td>\n",
       "    </tr>\n",
       "    <tr>\n",
       "      <th>3</th>\n",
       "      <td>Andorra</td>\n",
       "      <td>1854212221.550000</td>\n",
       "      <td>nan</td>\n",
       "      <td>nan</td>\n",
       "      <td>nan</td>\n",
       "    </tr>\n",
       "    <tr>\n",
       "      <th>4</th>\n",
       "      <td>Angola</td>\n",
       "      <td>32315499871.199997</td>\n",
       "      <td>nan</td>\n",
       "      <td>4048181921.160000</td>\n",
       "      <td>248358000.000000</td>\n",
       "    </tr>\n",
       "  </tbody>\n",
       "</table>\n",
       "</div>"
      ],
      "text/plain": [
       "       country        totalIncome  totalOilConsumed  totalElectricConsumed  \\\n",
       "0  Afghanistan                nan               nan                    nan   \n",
       "1      Albania  5649239825.450001               nan      1877207081.030000   \n",
       "2      Algeria 80351760060.000000   15123402.900000     21258353314.799995   \n",
       "3      Andorra  1854212221.550000               nan                    nan   \n",
       "4       Angola 32315499871.199997               nan      4048181921.160000   \n",
       "\n",
       "       co2emissions  \n",
       "0   75944000.000000  \n",
       "1  223747333.300000  \n",
       "2 2932108667.000000  \n",
       "3               nan  \n",
       "4  248358000.000000  "
      ]
     },
     "execution_count": 77,
     "metadata": {},
     "output_type": "execute_result"
    }
   ],
   "source": [
    "sub2.head()"
   ]
  },
  {
   "cell_type": "markdown",
   "metadata": {},
   "source": [
    "### Group the quantitative explanatory variable into 4 quartiles"
   ]
  },
  {
   "cell_type": "code",
   "execution_count": 78,
   "metadata": {},
   "outputs": [],
   "source": [
    "sub2['totaloilgrp4'] = pd.qcut(sub2['totalOilConsumed'], 4, labels=['low level', 'lower-medium level', 'upper-medium level', 'high level'])\n",
    "sub2['totalincomegrp4'] = pd.qcut(sub2['totalIncome'], 4, labels=['low', 'lower-medium', 'upper-medium', 'high'])\n",
    "sub2['totalrelectricgrp4'] = pd.qcut(sub2['totalElectricConsumed'], 4, labels=['low level', 'lower-medium level', 'upper-medium level', 'high level'])"
   ]
  },
  {
   "cell_type": "code",
   "execution_count": 79,
   "metadata": {},
   "outputs": [
    {
     "data": {
      "text/html": [
       "<div>\n",
       "<style scoped>\n",
       "    .dataframe tbody tr th:only-of-type {\n",
       "        vertical-align: middle;\n",
       "    }\n",
       "\n",
       "    .dataframe tbody tr th {\n",
       "        vertical-align: top;\n",
       "    }\n",
       "\n",
       "    .dataframe thead th {\n",
       "        text-align: right;\n",
       "    }\n",
       "</style>\n",
       "<table border=\"1\" class=\"dataframe\">\n",
       "  <thead>\n",
       "    <tr style=\"text-align: right;\">\n",
       "      <th></th>\n",
       "      <th>country</th>\n",
       "      <th>totalIncome</th>\n",
       "      <th>totalOilConsumed</th>\n",
       "      <th>totalElectricConsumed</th>\n",
       "      <th>co2emissions</th>\n",
       "      <th>totaloilgrp4</th>\n",
       "      <th>totalincomegrp4</th>\n",
       "      <th>totalrelectricgrp4</th>\n",
       "    </tr>\n",
       "  </thead>\n",
       "  <tbody>\n",
       "    <tr>\n",
       "      <th>0</th>\n",
       "      <td>Afghanistan</td>\n",
       "      <td>nan</td>\n",
       "      <td>nan</td>\n",
       "      <td>nan</td>\n",
       "      <td>75944000.000000</td>\n",
       "      <td>NaN</td>\n",
       "      <td>NaN</td>\n",
       "      <td>NaN</td>\n",
       "    </tr>\n",
       "    <tr>\n",
       "      <th>1</th>\n",
       "      <td>Albania</td>\n",
       "      <td>5649239825.450001</td>\n",
       "      <td>nan</td>\n",
       "      <td>1877207081.030000</td>\n",
       "      <td>223747333.300000</td>\n",
       "      <td>NaN</td>\n",
       "      <td>lower-medium</td>\n",
       "      <td>lower-medium level</td>\n",
       "    </tr>\n",
       "    <tr>\n",
       "      <th>2</th>\n",
       "      <td>Algeria</td>\n",
       "      <td>80351760060.000000</td>\n",
       "      <td>15123402.900000</td>\n",
       "      <td>21258353314.799995</td>\n",
       "      <td>2932108667.000000</td>\n",
       "      <td>lower-medium level</td>\n",
       "      <td>upper-medium</td>\n",
       "      <td>upper-medium level</td>\n",
       "    </tr>\n",
       "    <tr>\n",
       "      <th>3</th>\n",
       "      <td>Andorra</td>\n",
       "      <td>1854212221.550000</td>\n",
       "      <td>nan</td>\n",
       "      <td>nan</td>\n",
       "      <td>nan</td>\n",
       "      <td>NaN</td>\n",
       "      <td>low</td>\n",
       "      <td>NaN</td>\n",
       "    </tr>\n",
       "    <tr>\n",
       "      <th>4</th>\n",
       "      <td>Angola</td>\n",
       "      <td>32315499871.199997</td>\n",
       "      <td>nan</td>\n",
       "      <td>4048181921.160000</td>\n",
       "      <td>248358000.000000</td>\n",
       "      <td>NaN</td>\n",
       "      <td>upper-medium</td>\n",
       "      <td>lower-medium level</td>\n",
       "    </tr>\n",
       "  </tbody>\n",
       "</table>\n",
       "</div>"
      ],
      "text/plain": [
       "       country        totalIncome  totalOilConsumed  totalElectricConsumed  \\\n",
       "0  Afghanistan                nan               nan                    nan   \n",
       "1      Albania  5649239825.450001               nan      1877207081.030000   \n",
       "2      Algeria 80351760060.000000   15123402.900000     21258353314.799995   \n",
       "3      Andorra  1854212221.550000               nan                    nan   \n",
       "4       Angola 32315499871.199997               nan      4048181921.160000   \n",
       "\n",
       "       co2emissions        totaloilgrp4 totalincomegrp4  totalrelectricgrp4  \n",
       "0   75944000.000000                 NaN             NaN                 NaN  \n",
       "1  223747333.300000                 NaN    lower-medium  lower-medium level  \n",
       "2 2932108667.000000  lower-medium level    upper-medium  upper-medium level  \n",
       "3               nan                 NaN             low                 NaN  \n",
       "4  248358000.000000                 NaN    upper-medium  lower-medium level  "
      ]
     },
     "execution_count": 79,
     "metadata": {},
     "output_type": "execute_result"
    }
   ],
   "source": [
    "sub2.head()"
   ]
  },
  {
   "cell_type": "code",
   "execution_count": null,
   "metadata": {},
   "outputs": [],
   "source": []
  },
  {
   "cell_type": "code",
   "execution_count": 81,
   "metadata": {},
   "outputs": [
    {
     "data": {
      "text/plain": [
       "Text(0.5, 1.0, 'Bivariate analysis of Total Oil Group and Co2 Emissions')"
      ]
     },
     "execution_count": 81,
     "metadata": {},
     "output_type": "execute_result"
    },
    {
     "data": {
      "image/png": "[encoded data removed]",
      "text/plain": [
       "<Figure size 360x360 with 1 Axes>"
      ]
     },
     "metadata": {
      "needs_background": "light"
     },
     "output_type": "display_data"
    }
   ],
   "source": [
    "sns.catplot(x='totaloilgrp4', y='co2emissions', data=sub2, kind='bar', ci=None)\n",
    "plt.xlabel('Total Oil Consumption Group')\n",
    "plt.ylabel('Co2 Emissions')\n",
    "plt.title('Bivariate analysis of Total Oil Group and Co2 Emissions')"
   ]
  },
  {
   "cell_type": "code",
   "execution_count": 82,
   "metadata": {},
   "outputs": [
    {
     "data": {
      "text/plain": [
       "Text(0.5, 1.0, 'Bivariate analysis of Total Electricity Consumption Group and Co2 Emissions')"
      ]
     },
     "execution_count": 82,
     "metadata": {},
     "output_type": "execute_result"
    },
    {
     "data": {
      "image/png": "[encoded data removed]",
      "text/plain": [
       "<Figure size 360x360 with 1 Axes>"
      ]
     },
     "metadata": {
      "needs_background": "light"
     },
     "output_type": "display_data"
    }
   ],
   "source": [
    "sns.catplot(x='totalrelectricgrp4', y='co2emissions', data=sub2, kind='bar', ci=None)\n",
    "plt.xlabel('Total Electricity Consumption Group')\n",
    "plt.ylabel('Co2 Emissions')\n",
    "plt.title('Bivariate analysis of Total Electricity Consumption Group and Co2 Emissions')"
   ]
  },
  {
   "cell_type": "markdown",
   "metadata": {},
   "source": [
    "### Statistical Tests - ANOVA test"
   ]
  },
  {
   "cell_type": "code",
   "execution_count": 83,
   "metadata": {},
   "outputs": [],
   "source": [
    "sub2_electric = sub2[['totalrelectricgrp4','co2emissions']].dropna()"
   ]
  },
  {
   "cell_type": "code",
   "execution_count": 85,
   "metadata": {},
   "outputs": [
    {
     "name": "stdout",
     "output_type": "stream",
     "text": [
      "Means of co2 emissions across the oil consumption categories\n",
      "                         co2emissions\n",
      "totalrelectricgrp4                   \n",
      "low level            238190464.303571\n",
      "lower-medium level   406898119.061786\n",
      "upper-medium level  2631571743.538462\n",
      "high level         16384895547.678572\n"
     ]
    }
   ],
   "source": [
    "print('Means of co2 emissions across the oil consumption categories')\n",
    "m1 = sub2_electric.groupby('totalrelectricgrp4').mean()\n",
    "print(m1)"
   ]
  },
  {
   "cell_type": "code",
   "execution_count": 84,
   "metadata": {},
   "outputs": [],
   "source": [
    "sub2_oil = sub2[['totaloilgrp4', 'co2emissions']].dropna()"
   ]
  },
  {
   "cell_type": "code",
   "execution_count": 86,
   "metadata": {},
   "outputs": [
    {
     "name": "stdout",
     "output_type": "stream",
     "text": [
      "Means of co2 emissions across the oil consumption categories\n",
      "                         co2emissions\n",
      "totaloilgrp4                         \n",
      "low level           2014415333.307692\n",
      "lower-medium level  2709198179.484616\n",
      "upper-medium level  6627042230.769231\n",
      "high level         27990587743.692307\n"
     ]
    }
   ],
   "source": [
    "print('Means of co2 emissions across the oil consumption categories')\n",
    "m1 = sub2_oil.groupby('totaloilgrp4').mean()\n",
    "print(m1)"
   ]
  },
  {
   "cell_type": "code",
   "execution_count": 87,
   "metadata": {},
   "outputs": [
    {
     "name": "stdout",
     "output_type": "stream",
     "text": [
      "                            OLS Regression Results                            \n",
      "==============================================================================\n",
      "Dep. Variable:           co2emissions   R-squared:                       0.413\n",
      "Model:                            OLS   Adj. R-squared:                  0.376\n",
      "Method:                 Least Squares   F-statistic:                     11.24\n",
      "Date:                Sun, 25 Oct 2020   Prob (F-statistic):           1.05e-05\n",
      "Time:                        13:34:20   Log-Likelihood:                -1283.5\n",
      "No. Observations:                  52   AIC:                             2575.\n",
      "Df Residuals:                      48   BIC:                             2583.\n",
      "Df Model:                           3                                         \n",
      "Covariance Type:            nonrobust                                         \n",
      "=========================================================================================================\n",
      "                                            coef    std err          t      P>|t|      [0.025      0.975]\n",
      "---------------------------------------------------------------------------------------------------------\n",
      "Intercept                              2.014e+09   3.66e+09      0.550      0.585   -5.35e+09    9.37e+09\n",
      "C(totaloilgrp4)[T.lower-medium level]  6.948e+08   5.18e+09      0.134      0.894   -9.71e+09    1.11e+10\n",
      "C(totaloilgrp4)[T.upper-medium level]  4.613e+09   5.18e+09      0.891      0.377    -5.8e+09     1.5e+10\n",
      "C(totaloilgrp4)[T.high level]          2.598e+10   5.18e+09      5.018      0.000    1.56e+10    3.64e+10\n",
      "==============================================================================\n",
      "Omnibus:                       70.180   Durbin-Watson:                   1.928\n",
      "Prob(Omnibus):                  0.000   Jarque-Bera (JB):              878.349\n",
      "Skew:                           3.411   Prob(JB):                    1.86e-191\n",
      "Kurtosis:                      21.943   Cond. No.                         4.79\n",
      "==============================================================================\n",
      "\n",
      "Notes:\n",
      "[1] Standard Errors assume that the covariance matrix of the errors is correctly specified.\n"
     ]
    }
   ],
   "source": [
    "model1 = smf.ols(formula='co2emissions ~ C(totaloilgrp4)', data=sub2_oil)\n",
    "results1 = model1.fit()\n",
    "print(results1.summary())"
   ]
  },
  {
   "cell_type": "code",
   "execution_count": 88,
   "metadata": {},
   "outputs": [
    {
     "name": "stdout",
     "output_type": "stream",
     "text": [
      "                            OLS Regression Results                            \n",
      "==============================================================================\n",
      "Dep. Variable:           co2emissions   R-squared:                       0.299\n",
      "Model:                            OLS   Adj. R-squared:                  0.279\n",
      "Method:                 Least Squares   F-statistic:                     15.09\n",
      "Date:                Sun, 25 Oct 2020   Prob (F-statistic):           3.00e-08\n",
      "Time:                        13:35:19   Log-Likelihood:                -2692.3\n",
      "No. Observations:                 110   AIC:                             5393.\n",
      "Df Residuals:                     106   BIC:                             5404.\n",
      "Df Model:                           3                                         \n",
      "Covariance Type:            nonrobust                                         \n",
      "===============================================================================================================\n",
      "                                                  coef    std err          t      P>|t|      [0.025      0.975]\n",
      "---------------------------------------------------------------------------------------------------------------\n",
      "Intercept                                    2.382e+08   1.99e+09      0.120      0.905    -3.7e+09    4.18e+09\n",
      "C(totalrelectricgrp4)[T.lower-medium level]  1.687e+08   2.81e+09      0.060      0.952    -5.4e+09    5.74e+09\n",
      "C(totalrelectricgrp4)[T.upper-medium level]  2.393e+09   2.86e+09      0.836      0.405   -3.28e+09    8.07e+09\n",
      "C(totalrelectricgrp4)[T.high level]          1.615e+10   2.81e+09      5.749      0.000    1.06e+10    2.17e+10\n",
      "==============================================================================\n",
      "Omnibus:                      157.918   Durbin-Watson:                   2.039\n",
      "Prob(Omnibus):                  0.000   Jarque-Bera (JB):             7640.062\n",
      "Skew:                           5.208   Prob(JB):                         0.00\n",
      "Kurtosis:                      42.477   Cond. No.                         4.76\n",
      "==============================================================================\n",
      "\n",
      "Notes:\n",
      "[1] Standard Errors assume that the covariance matrix of the errors is correctly specified.\n"
     ]
    }
   ],
   "source": [
    "model1 = smf.ols(formula='co2emissions ~ C(totalrelectricgrp4)', data=sub2_electric)\n",
    "results1 = model1.fit()\n",
    "print(results1.summary())"
   ]
  },
  {
   "cell_type": "code",
   "execution_count": null,
   "metadata": {},
   "outputs": [],
   "source": []
  }
 ],
 "metadata": {
  "kernelspec": {
   "display_name": "Python 3",
   "language": "python",
   "name": "python3"
  },
  "language_info": {
   "codemirror_mode": {
    "name": "ipython",
    "version": 3
   },
   "file_extension": ".py",
   "mimetype": "text/x-python",
   "name": "python",
   "nbconvert_exporter": "python",
   "pygments_lexer": "ipython3",
   "version": "3.7.6"
  }
 },
 "nbformat": 4,
 "nbformat_minor": 4
}
