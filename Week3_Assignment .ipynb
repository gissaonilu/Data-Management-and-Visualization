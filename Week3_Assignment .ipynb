{
 "cells": [
  {
   "cell_type": "markdown",
   "metadata": {},
   "source": [
    "### Week 3 Assignment: Making Data Management Decisions "
   ]
  },
  {
   "cell_type": "markdown",
   "metadata": {},
   "source": [
    "The week 3 assignment involves posting the program, the results/output that displays at least 3 of the data managed variables as frequency distributions, and the explanations describing these frequency distributions in terms of the values the variables take, how often they take them, the presence of missing data, etc."
   ]
  },
  {
   "cell_type": "code",
   "execution_count": 65,
   "metadata": {},
   "outputs": [],
   "source": [
    "#import libraries\n",
    "import pandas as pd\n",
    "import numpy as np"
   ]
  },
  {
   "cell_type": "code",
   "execution_count": 66,
   "metadata": {},
   "outputs": [],
   "source": [
    "#load dataset\n",
    "file_path = 'gapminder.csv'\n",
    "gapminder_df = pd.read_csv(file_path, low_memory=False)"
   ]
  },
  {
   "cell_type": "code",
   "execution_count": 67,
   "metadata": {},
   "outputs": [
    {
     "name": "stdout",
     "output_type": "stream",
     "text": [
      "213\n"
     ]
    }
   ],
   "source": [
    "#print out the number of rows (observations) in the dataset\n",
    "print(len(gapminder_df))"
   ]
  },
  {
   "cell_type": "code",
   "execution_count": 68,
   "metadata": {},
   "outputs": [
    {
     "name": "stdout",
     "output_type": "stream",
     "text": [
      "16\n"
     ]
    }
   ],
   "source": [
    "#print out number of columns in the dataset\n",
    "print(len(gapminder_df.columns))"
   ]
  },
  {
   "cell_type": "markdown",
   "metadata": {},
   "source": [
    "#### Select columns needed for the research project"
   ]
  },
  {
   "cell_type": "code",
   "execution_count": 69,
   "metadata": {},
   "outputs": [
    {
     "data": {
      "text/html": [
       "<div>\n",
       "<style scoped>\n",
       "    .dataframe tbody tr th:only-of-type {\n",
       "        vertical-align: middle;\n",
       "    }\n",
       "\n",
       "    .dataframe tbody tr th {\n",
       "        vertical-align: top;\n",
       "    }\n",
       "\n",
       "    .dataframe thead th {\n",
       "        text-align: right;\n",
       "    }\n",
       "</style>\n",
       "<table border=\"1\" class=\"dataframe\">\n",
       "  <thead>\n",
       "    <tr style=\"text-align: right;\">\n",
       "      <th></th>\n",
       "      <th>country</th>\n",
       "      <th>incomeperperson</th>\n",
       "      <th>oilperperson</th>\n",
       "      <th>co2emissions</th>\n",
       "      <th>relectricperperson</th>\n",
       "    </tr>\n",
       "  </thead>\n",
       "  <tbody>\n",
       "    <tr>\n",
       "      <th>0</th>\n",
       "      <td>Afghanistan</td>\n",
       "      <td></td>\n",
       "      <td></td>\n",
       "      <td>75944000</td>\n",
       "      <td></td>\n",
       "    </tr>\n",
       "    <tr>\n",
       "      <th>1</th>\n",
       "      <td>Albania</td>\n",
       "      <td>1914.996551</td>\n",
       "      <td></td>\n",
       "      <td>223747333.3</td>\n",
       "      <td>636.3413834</td>\n",
       "    </tr>\n",
       "    <tr>\n",
       "      <th>2</th>\n",
       "      <td>Algeria</td>\n",
       "      <td>2231.993335</td>\n",
       "      <td>0.420094525</td>\n",
       "      <td>2932108667</td>\n",
       "      <td>590.5098143</td>\n",
       "    </tr>\n",
       "    <tr>\n",
       "      <th>3</th>\n",
       "      <td>Andorra</td>\n",
       "      <td>21943.3399</td>\n",
       "      <td></td>\n",
       "      <td></td>\n",
       "      <td></td>\n",
       "    </tr>\n",
       "    <tr>\n",
       "      <th>4</th>\n",
       "      <td>Angola</td>\n",
       "      <td>1381.004268</td>\n",
       "      <td></td>\n",
       "      <td>248358000</td>\n",
       "      <td>172.9992274</td>\n",
       "    </tr>\n",
       "    <tr>\n",
       "      <th>5</th>\n",
       "      <td>Antigua and Barbuda</td>\n",
       "      <td>11894.46407</td>\n",
       "      <td></td>\n",
       "      <td>16225000</td>\n",
       "      <td></td>\n",
       "    </tr>\n",
       "  </tbody>\n",
       "</table>\n",
       "</div>"
      ],
      "text/plain": [
       "               country incomeperperson oilperperson co2emissions  \\\n",
       "0          Afghanistan                                  75944000   \n",
       "1              Albania     1914.996551               223747333.3   \n",
       "2              Algeria     2231.993335  0.420094525   2932108667   \n",
       "3              Andorra      21943.3399                             \n",
       "4               Angola     1381.004268                 248358000   \n",
       "5  Antigua and Barbuda     11894.46407                  16225000   \n",
       "\n",
       "  relectricperperson  \n",
       "0                     \n",
       "1        636.3413834  \n",
       "2        590.5098143  \n",
       "3                     \n",
       "4        172.9992274  \n",
       "5                     "
      ]
     },
     "execution_count": 69,
     "metadata": {},
     "output_type": "execute_result"
    }
   ],
   "source": [
    "#select the variables needed for project\n",
    "gapminder_df = gapminder_df[['country', 'incomeperperson','oilperperson', 'co2emissions', 'relectricperperson']]\n",
    "gapminder_df.head(6)"
   ]
  },
  {
   "cell_type": "markdown",
   "metadata": {},
   "source": [
    "#### Dealing with missing data"
   ]
  },
  {
   "cell_type": "code",
   "execution_count": 70,
   "metadata": {},
   "outputs": [],
   "source": [
    "#replace empty cells with nan\n",
    "gapminder_df = gapminder_df.replace([\"\",\" \"], np.nan, regex=True)"
   ]
  },
  {
   "cell_type": "code",
   "execution_count": 71,
   "metadata": {},
   "outputs": [],
   "source": [
    "#convert object variables to numeric \n",
    "\n",
    "gapminder_df['incomeperperson'] = pd.to_numeric(gapminder_df['incomeperperson'])\n",
    "gapminder_df['co2emissions'] = pd.to_numeric(gapminder_df['co2emissions'])\n",
    "gapminder_df['oilperperson'] = pd.to_numeric(gapminder_df['oilperperson'])\n",
    "gapminder_df['relectricperperson'] = pd.to_numeric(gapminder_df['relectricperperson'])\n"
   ]
  },
  {
   "cell_type": "code",
   "execution_count": 72,
   "metadata": {},
   "outputs": [],
   "source": [
    "sub1 = gapminder_df.copy()"
   ]
  },
  {
   "cell_type": "code",
   "execution_count": 73,
   "metadata": {},
   "outputs": [
    {
     "data": {
      "text/html": [
       "<div>\n",
       "<style scoped>\n",
       "    .dataframe tbody tr th:only-of-type {\n",
       "        vertical-align: middle;\n",
       "    }\n",
       "\n",
       "    .dataframe tbody tr th {\n",
       "        vertical-align: top;\n",
       "    }\n",
       "\n",
       "    .dataframe thead th {\n",
       "        text-align: right;\n",
       "    }\n",
       "</style>\n",
       "<table border=\"1\" class=\"dataframe\">\n",
       "  <thead>\n",
       "    <tr style=\"text-align: right;\">\n",
       "      <th></th>\n",
       "      <th>country</th>\n",
       "      <th>incomeperperson</th>\n",
       "      <th>oilperperson</th>\n",
       "      <th>co2emissions</th>\n",
       "      <th>relectricperperson</th>\n",
       "    </tr>\n",
       "  </thead>\n",
       "  <tbody>\n",
       "    <tr>\n",
       "      <th>0</th>\n",
       "      <td>Afghanistan</td>\n",
       "      <td>NaN</td>\n",
       "      <td>NaN</td>\n",
       "      <td>7.594400e+07</td>\n",
       "      <td>NaN</td>\n",
       "    </tr>\n",
       "    <tr>\n",
       "      <th>1</th>\n",
       "      <td>Albania</td>\n",
       "      <td>1914.996551</td>\n",
       "      <td>NaN</td>\n",
       "      <td>2.237473e+08</td>\n",
       "      <td>636.341383</td>\n",
       "    </tr>\n",
       "    <tr>\n",
       "      <th>2</th>\n",
       "      <td>Algeria</td>\n",
       "      <td>2231.993335</td>\n",
       "      <td>0.420095</td>\n",
       "      <td>2.932109e+09</td>\n",
       "      <td>590.509814</td>\n",
       "    </tr>\n",
       "    <tr>\n",
       "      <th>3</th>\n",
       "      <td>Andorra</td>\n",
       "      <td>21943.339900</td>\n",
       "      <td>NaN</td>\n",
       "      <td>NaN</td>\n",
       "      <td>NaN</td>\n",
       "    </tr>\n",
       "    <tr>\n",
       "      <th>4</th>\n",
       "      <td>Angola</td>\n",
       "      <td>1381.004268</td>\n",
       "      <td>NaN</td>\n",
       "      <td>2.483580e+08</td>\n",
       "      <td>172.999227</td>\n",
       "    </tr>\n",
       "    <tr>\n",
       "      <th>5</th>\n",
       "      <td>NaN</td>\n",
       "      <td>11894.464070</td>\n",
       "      <td>NaN</td>\n",
       "      <td>1.622500e+07</td>\n",
       "      <td>NaN</td>\n",
       "    </tr>\n",
       "    <tr>\n",
       "      <th>6</th>\n",
       "      <td>Argentina</td>\n",
       "      <td>10749.419240</td>\n",
       "      <td>0.635944</td>\n",
       "      <td>5.872119e+09</td>\n",
       "      <td>768.428300</td>\n",
       "    </tr>\n",
       "    <tr>\n",
       "      <th>7</th>\n",
       "      <td>Armenia</td>\n",
       "      <td>1326.741757</td>\n",
       "      <td>NaN</td>\n",
       "      <td>5.121967e+07</td>\n",
       "      <td>603.763058</td>\n",
       "    </tr>\n",
       "    <tr>\n",
       "      <th>8</th>\n",
       "      <td>Aruba</td>\n",
       "      <td>NaN</td>\n",
       "      <td>NaN</td>\n",
       "      <td>3.587100e+07</td>\n",
       "      <td>NaN</td>\n",
       "    </tr>\n",
       "    <tr>\n",
       "      <th>9</th>\n",
       "      <td>Australia</td>\n",
       "      <td>25249.986060</td>\n",
       "      <td>1.913026</td>\n",
       "      <td>1.297009e+10</td>\n",
       "      <td>2825.391095</td>\n",
       "    </tr>\n",
       "  </tbody>\n",
       "</table>\n",
       "</div>"
      ],
      "text/plain": [
       "       country  incomeperperson  oilperperson  co2emissions  \\\n",
       "0  Afghanistan              NaN           NaN  7.594400e+07   \n",
       "1      Albania      1914.996551           NaN  2.237473e+08   \n",
       "2      Algeria      2231.993335      0.420095  2.932109e+09   \n",
       "3      Andorra     21943.339900           NaN           NaN   \n",
       "4       Angola      1381.004268           NaN  2.483580e+08   \n",
       "5          NaN     11894.464070           NaN  1.622500e+07   \n",
       "6    Argentina     10749.419240      0.635944  5.872119e+09   \n",
       "7      Armenia      1326.741757           NaN  5.121967e+07   \n",
       "8        Aruba              NaN           NaN  3.587100e+07   \n",
       "9    Australia     25249.986060      1.913026  1.297009e+10   \n",
       "\n",
       "   relectricperperson  \n",
       "0                 NaN  \n",
       "1          636.341383  \n",
       "2          590.509814  \n",
       "3                 NaN  \n",
       "4          172.999227  \n",
       "5                 NaN  \n",
       "6          768.428300  \n",
       "7          603.763058  \n",
       "8                 NaN  \n",
       "9         2825.391095  "
      ]
     },
     "execution_count": 73,
     "metadata": {},
     "output_type": "execute_result"
    }
   ],
   "source": [
    "sub1.head(10)"
   ]
  },
  {
   "cell_type": "code",
   "execution_count": 74,
   "metadata": {},
   "outputs": [
    {
     "data": {
      "text/plain": [
       "213"
      ]
     },
     "execution_count": 74,
     "metadata": {},
     "output_type": "execute_result"
    }
   ],
   "source": [
    "len(sub1)"
   ]
  },
  {
   "cell_type": "code",
   "execution_count": 75,
   "metadata": {},
   "outputs": [
    {
     "data": {
      "text/plain": [
       "150"
      ]
     },
     "execution_count": 75,
     "metadata": {},
     "output_type": "execute_result"
    }
   ],
   "source": [
    "sub1['oilperperson'].isnull().sum()"
   ]
  },
  {
   "cell_type": "markdown",
   "metadata": {},
   "source": [
    "#### Grouping values in variables and calculating secondary variables"
   ]
  },
  {
   "cell_type": "code",
   "execution_count": 76,
   "metadata": {},
   "outputs": [],
   "source": [
    "#create a function to code the values for oilperperson variable and create a secondary variable 'OilClass' needed for the research.\n",
    "def OILPERPERSON(row):\n",
    "    if row['oilperperson'] <= 3:\n",
    "        return 1\n",
    "    if row['oilperperson'] > 3 and row['oilperperson'] <= 6:\n",
    "        return 2\n",
    "    if row['oilperperson'] > 6 and row['oilperperson'] <= 9:\n",
    "        return 3\n",
    "    if row['oilperperson'] > 9 and row['oilperperson'] <= 12:\n",
    "        return 4\n",
    "    if row['oilperperson'] > 12 and row['oilperperson'] <= 15:\n",
    "        return 5\n",
    "\n",
    "sub1['OilClass'] = sub1.apply(lambda row: OILPERPERSON(row), axis=1)  "
   ]
  },
  {
   "cell_type": "code",
   "execution_count": 77,
   "metadata": {},
   "outputs": [],
   "source": [
    "#create a function to code the values for oilperperson variable and create a secondary variable 'OilClass' needed for the research.\n",
    "def CO2EMISSIONS(row):\n",
    "    if row['co2emissions'] <= 70000000000:\n",
    "        return 1\n",
    "    if row['co2emissions'] > 70000000000 and row['co2emissions'] <= 140000000000:\n",
    "        return 2\n",
    "    if row['co2emissions'] > 140000000000 and row['co2emissions'] <= 210000000000:\n",
    "        return 3\n",
    "    if row['co2emissions'] > 210000000000 and row['co2emissions'] <= 280000000000:\n",
    "        return 4\n",
    "    if row['co2emissions'] > 280000000000 and row['co2emissions'] <= 350000000000:\n",
    "        return 5\n",
    "\n",
    "sub1['Co2Class'] = sub1.apply(lambda row: CO2EMISSIONS(row), axis=1)  "
   ]
  },
  {
   "cell_type": "code",
   "execution_count": 78,
   "metadata": {},
   "outputs": [],
   "source": [
    "#create a function to code the values for oilperperson variable and create a secondary variable 'OilClass' needed for the research.\n",
    "def RELECTRICPERPERSON(row):\n",
    "    if row['relectricperperson'] <= 2500:\n",
    "        return 1\n",
    "    if row['relectricperperson'] > 2500 and row['relectricperperson'] <= 5000:\n",
    "        return 2\n",
    "    if row['relectricperperson'] > 5000 and row['relectricperperson'] <= 7500:\n",
    "        return 3\n",
    "    if row['relectricperperson'] > 7500 and row['relectricperperson'] <= 9000:\n",
    "        return 4\n",
    "    if row['relectricperperson'] > 9000 and row['relectricperperson'] <= 11500:\n",
    "        return 5\n",
    "\n",
    "sub1['ElectricClass'] = sub1.apply(lambda row: RELECTRICPERPERSON(row), axis=1)  "
   ]
  },
  {
   "cell_type": "code",
   "execution_count": 79,
   "metadata": {},
   "outputs": [],
   "source": [
    "#create a function to code the values for oilperperson variable and create a secondary variable 'OilClass' needed for the research.\n",
    "def INCOMEPERPERSON(row):\n",
    "    if row['incomeperperson'] <= 22000:\n",
    "        return 1\n",
    "    if row['incomeperperson'] > 22000 and row['incomeperperson'] <= 44000:\n",
    "        return 2\n",
    "    if row['incomeperperson'] > 44000 and row['incomeperperson'] <= 66000:\n",
    "        return 3\n",
    "    if row['incomeperperson'] > 66000 and row['incomeperperson'] <= 88000:\n",
    "        return 4\n",
    "    if row['incomeperperson'] > 88000 and row['incomeperperson'] <= 110000:\n",
    "        return 5\n",
    "\n",
    "sub1['IncomeClass'] = sub1.apply(lambda row: INCOMEPERPERSON(row), axis=1)  "
   ]
  },
  {
   "cell_type": "code",
   "execution_count": 80,
   "metadata": {},
   "outputs": [
    {
     "data": {
      "text/html": [
       "<div>\n",
       "<style scoped>\n",
       "    .dataframe tbody tr th:only-of-type {\n",
       "        vertical-align: middle;\n",
       "    }\n",
       "\n",
       "    .dataframe tbody tr th {\n",
       "        vertical-align: top;\n",
       "    }\n",
       "\n",
       "    .dataframe thead th {\n",
       "        text-align: right;\n",
       "    }\n",
       "</style>\n",
       "<table border=\"1\" class=\"dataframe\">\n",
       "  <thead>\n",
       "    <tr style=\"text-align: right;\">\n",
       "      <th></th>\n",
       "      <th>country</th>\n",
       "      <th>incomeperperson</th>\n",
       "      <th>oilperperson</th>\n",
       "      <th>co2emissions</th>\n",
       "      <th>relectricperperson</th>\n",
       "      <th>OilClass</th>\n",
       "      <th>Co2Class</th>\n",
       "      <th>ElectricClass</th>\n",
       "      <th>IncomeClass</th>\n",
       "    </tr>\n",
       "  </thead>\n",
       "  <tbody>\n",
       "    <tr>\n",
       "      <th>0</th>\n",
       "      <td>Afghanistan</td>\n",
       "      <td>NaN</td>\n",
       "      <td>NaN</td>\n",
       "      <td>7.594400e+07</td>\n",
       "      <td>NaN</td>\n",
       "      <td>NaN</td>\n",
       "      <td>1.0</td>\n",
       "      <td>NaN</td>\n",
       "      <td>NaN</td>\n",
       "    </tr>\n",
       "    <tr>\n",
       "      <th>1</th>\n",
       "      <td>Albania</td>\n",
       "      <td>1914.996551</td>\n",
       "      <td>NaN</td>\n",
       "      <td>2.237473e+08</td>\n",
       "      <td>636.341383</td>\n",
       "      <td>NaN</td>\n",
       "      <td>1.0</td>\n",
       "      <td>1.0</td>\n",
       "      <td>1.0</td>\n",
       "    </tr>\n",
       "    <tr>\n",
       "      <th>2</th>\n",
       "      <td>Algeria</td>\n",
       "      <td>2231.993335</td>\n",
       "      <td>0.420095</td>\n",
       "      <td>2.932109e+09</td>\n",
       "      <td>590.509814</td>\n",
       "      <td>1.0</td>\n",
       "      <td>1.0</td>\n",
       "      <td>1.0</td>\n",
       "      <td>1.0</td>\n",
       "    </tr>\n",
       "    <tr>\n",
       "      <th>3</th>\n",
       "      <td>Andorra</td>\n",
       "      <td>21943.339900</td>\n",
       "      <td>NaN</td>\n",
       "      <td>NaN</td>\n",
       "      <td>NaN</td>\n",
       "      <td>NaN</td>\n",
       "      <td>NaN</td>\n",
       "      <td>NaN</td>\n",
       "      <td>1.0</td>\n",
       "    </tr>\n",
       "    <tr>\n",
       "      <th>4</th>\n",
       "      <td>Angola</td>\n",
       "      <td>1381.004268</td>\n",
       "      <td>NaN</td>\n",
       "      <td>2.483580e+08</td>\n",
       "      <td>172.999227</td>\n",
       "      <td>NaN</td>\n",
       "      <td>1.0</td>\n",
       "      <td>1.0</td>\n",
       "      <td>1.0</td>\n",
       "    </tr>\n",
       "    <tr>\n",
       "      <th>5</th>\n",
       "      <td>NaN</td>\n",
       "      <td>11894.464070</td>\n",
       "      <td>NaN</td>\n",
       "      <td>1.622500e+07</td>\n",
       "      <td>NaN</td>\n",
       "      <td>NaN</td>\n",
       "      <td>1.0</td>\n",
       "      <td>NaN</td>\n",
       "      <td>1.0</td>\n",
       "    </tr>\n",
       "    <tr>\n",
       "      <th>6</th>\n",
       "      <td>Argentina</td>\n",
       "      <td>10749.419240</td>\n",
       "      <td>0.635944</td>\n",
       "      <td>5.872119e+09</td>\n",
       "      <td>768.428300</td>\n",
       "      <td>1.0</td>\n",
       "      <td>1.0</td>\n",
       "      <td>1.0</td>\n",
       "      <td>1.0</td>\n",
       "    </tr>\n",
       "    <tr>\n",
       "      <th>7</th>\n",
       "      <td>Armenia</td>\n",
       "      <td>1326.741757</td>\n",
       "      <td>NaN</td>\n",
       "      <td>5.121967e+07</td>\n",
       "      <td>603.763058</td>\n",
       "      <td>NaN</td>\n",
       "      <td>1.0</td>\n",
       "      <td>1.0</td>\n",
       "      <td>1.0</td>\n",
       "    </tr>\n",
       "    <tr>\n",
       "      <th>8</th>\n",
       "      <td>Aruba</td>\n",
       "      <td>NaN</td>\n",
       "      <td>NaN</td>\n",
       "      <td>3.587100e+07</td>\n",
       "      <td>NaN</td>\n",
       "      <td>NaN</td>\n",
       "      <td>1.0</td>\n",
       "      <td>NaN</td>\n",
       "      <td>NaN</td>\n",
       "    </tr>\n",
       "    <tr>\n",
       "      <th>9</th>\n",
       "      <td>Australia</td>\n",
       "      <td>25249.986060</td>\n",
       "      <td>1.913026</td>\n",
       "      <td>1.297009e+10</td>\n",
       "      <td>2825.391095</td>\n",
       "      <td>1.0</td>\n",
       "      <td>1.0</td>\n",
       "      <td>2.0</td>\n",
       "      <td>2.0</td>\n",
       "    </tr>\n",
       "  </tbody>\n",
       "</table>\n",
       "</div>"
      ],
      "text/plain": [
       "       country  incomeperperson  oilperperson  co2emissions  \\\n",
       "0  Afghanistan              NaN           NaN  7.594400e+07   \n",
       "1      Albania      1914.996551           NaN  2.237473e+08   \n",
       "2      Algeria      2231.993335      0.420095  2.932109e+09   \n",
       "3      Andorra     21943.339900           NaN           NaN   \n",
       "4       Angola      1381.004268           NaN  2.483580e+08   \n",
       "5          NaN     11894.464070           NaN  1.622500e+07   \n",
       "6    Argentina     10749.419240      0.635944  5.872119e+09   \n",
       "7      Armenia      1326.741757           NaN  5.121967e+07   \n",
       "8        Aruba              NaN           NaN  3.587100e+07   \n",
       "9    Australia     25249.986060      1.913026  1.297009e+10   \n",
       "\n",
       "   relectricperperson  OilClass  Co2Class  ElectricClass  IncomeClass  \n",
       "0                 NaN       NaN       1.0            NaN          NaN  \n",
       "1          636.341383       NaN       1.0            1.0          1.0  \n",
       "2          590.509814       1.0       1.0            1.0          1.0  \n",
       "3                 NaN       NaN       NaN            NaN          1.0  \n",
       "4          172.999227       NaN       1.0            1.0          1.0  \n",
       "5                 NaN       NaN       1.0            NaN          1.0  \n",
       "6          768.428300       1.0       1.0            1.0          1.0  \n",
       "7          603.763058       NaN       1.0            1.0          1.0  \n",
       "8                 NaN       NaN       1.0            NaN          NaN  \n",
       "9         2825.391095       1.0       1.0            2.0          2.0  "
      ]
     },
     "execution_count": 80,
     "metadata": {},
     "output_type": "execute_result"
    }
   ],
   "source": [
    "sub1.head(10)"
   ]
  },
  {
   "cell_type": "markdown",
   "metadata": {},
   "source": [
    "#### Create Frequency tables for the chosen variables using value_counts()"
   ]
  },
  {
   "cell_type": "code",
   "execution_count": 81,
   "metadata": {},
   "outputs": [],
   "source": [
    "#create frequency tables for three variables in the dataset\n",
    "#frequency distribution of OilClass variable\n",
    "f1 = sub1['OilClass'].value_counts(sort=False, dropna=False)\n",
    "p1 = sub1['OilClass'].value_counts(sort=False, normalize=True, dropna=False)\n",
    "#frequency distribution of co2emissions variable \n",
    "f2 = sub1['Co2Class'].value_counts(sort=False, dropna=False)\n",
    "p2 = sub1['Co2Class'].value_counts(sort=False, normalize=True, dropna=False)\n",
    "#frequency distribution of relectricperperson variable\n",
    "f3 = sub1['ElectricClass'].value_counts(sort=False, dropna=False)\n",
    "p3 = sub1['ElectricClass'].value_counts(sort=False, normalize=True, dropna=False)\n",
    "#frequency distribution of incomeperperson variable\n",
    "f4 = sub1['IncomeClass'].value_counts(sort=False, dropna=False)\n",
    "p4 = sub1['IncomeClass'].value_counts(sort=False, normalize=True, dropna=False)"
   ]
  },
  {
   "cell_type": "markdown",
   "metadata": {},
   "source": [
    "The frequency distribution of the oilClass variable: (1 = less than 3 tonnes per capita, 2 = 3-6 tonnes per capita, 3 = 7-9 tonnes per capita, 4 = 10-12 tonnes per capita and 5 = 13-15 tonnes per capita.)"
   ]
  },
  {
   "cell_type": "code",
   "execution_count": 82,
   "metadata": {},
   "outputs": [
    {
     "name": "stdout",
     "output_type": "stream",
     "text": [
      "The frequency distribution of the oilClass variable: 1 = less than 3 tonnes per capita, 2 = 3-6 tonnes per capita, 3 = 7-9 tonnes per capita, 4 = 10-12 tonnes per capita and 5 = 13-15 tonnes per capita\n"
     ]
    },
    {
     "data": {
      "text/html": [
       "<div>\n",
       "<style scoped>\n",
       "    .dataframe tbody tr th:only-of-type {\n",
       "        vertical-align: middle;\n",
       "    }\n",
       "\n",
       "    .dataframe tbody tr th {\n",
       "        vertical-align: top;\n",
       "    }\n",
       "\n",
       "    .dataframe thead th {\n",
       "        text-align: right;\n",
       "    }\n",
       "</style>\n",
       "<table border=\"1\" class=\"dataframe\">\n",
       "  <thead>\n",
       "    <tr style=\"text-align: right;\">\n",
       "      <th></th>\n",
       "      <th>OilClass</th>\n",
       "    </tr>\n",
       "  </thead>\n",
       "  <tbody>\n",
       "    <tr>\n",
       "      <th>NaN</th>\n",
       "      <td>150</td>\n",
       "    </tr>\n",
       "    <tr>\n",
       "      <th>1.0</th>\n",
       "      <td>57</td>\n",
       "    </tr>\n",
       "    <tr>\n",
       "      <th>2.0</th>\n",
       "      <td>4</td>\n",
       "    </tr>\n",
       "    <tr>\n",
       "      <th>3.0</th>\n",
       "      <td>1</td>\n",
       "    </tr>\n",
       "    <tr>\n",
       "      <th>5.0</th>\n",
       "      <td>1</td>\n",
       "    </tr>\n",
       "  </tbody>\n",
       "</table>\n",
       "</div>"
      ],
      "text/plain": [
       "     OilClass\n",
       "NaN       150\n",
       "1.0        57\n",
       "2.0         4\n",
       "3.0         1\n",
       "5.0         1"
      ]
     },
     "execution_count": 82,
     "metadata": {},
     "output_type": "execute_result"
    }
   ],
   "source": [
    "#output the frequency of the values in oilclass variable\n",
    "print('The frequency distribution of the oilClass variable: 1 = less than 3 tonnes per capita, 2 = 3-6 tonnes per capita, 3 = 7-9 tonnes per capita, 4 = 10-12 tonnes per capita and 5 = 13-15 tonnes per capita')\n",
    "f1.to_frame()"
   ]
  },
  {
   "cell_type": "code",
   "execution_count": 83,
   "metadata": {},
   "outputs": [
    {
     "data": {
      "text/html": [
       "<div>\n",
       "<style scoped>\n",
       "    .dataframe tbody tr th:only-of-type {\n",
       "        vertical-align: middle;\n",
       "    }\n",
       "\n",
       "    .dataframe tbody tr th {\n",
       "        vertical-align: top;\n",
       "    }\n",
       "\n",
       "    .dataframe thead th {\n",
       "        text-align: right;\n",
       "    }\n",
       "</style>\n",
       "<table border=\"1\" class=\"dataframe\">\n",
       "  <thead>\n",
       "    <tr style=\"text-align: right;\">\n",
       "      <th></th>\n",
       "      <th>OilClass</th>\n",
       "    </tr>\n",
       "  </thead>\n",
       "  <tbody>\n",
       "    <tr>\n",
       "      <th>NaN</th>\n",
       "      <td>0.704225</td>\n",
       "    </tr>\n",
       "    <tr>\n",
       "      <th>1.0</th>\n",
       "      <td>0.267606</td>\n",
       "    </tr>\n",
       "    <tr>\n",
       "      <th>2.0</th>\n",
       "      <td>0.018779</td>\n",
       "    </tr>\n",
       "    <tr>\n",
       "      <th>3.0</th>\n",
       "      <td>0.004695</td>\n",
       "    </tr>\n",
       "    <tr>\n",
       "      <th>5.0</th>\n",
       "      <td>0.004695</td>\n",
       "    </tr>\n",
       "  </tbody>\n",
       "</table>\n",
       "</div>"
      ],
      "text/plain": [
       "     OilClass\n",
       "NaN  0.704225\n",
       "1.0  0.267606\n",
       "2.0  0.018779\n",
       "3.0  0.004695\n",
       "5.0  0.004695"
      ]
     },
     "execution_count": 83,
     "metadata": {},
     "output_type": "execute_result"
    }
   ],
   "source": [
    "#output the percentage of values in the oilclass variable\n",
    "p1.to_frame()"
   ]
  },
  {
   "cell_type": "markdown",
   "metadata": {},
   "source": [
    "Frequency distribution of Co2Class variable\n",
    "(1 = less than 70,000,000,000 metric tons , 2 = 70, 000,000,000 - 140,000,000,000 metric tons, 3 = 140,000,000,000 - 210,000,000,000 metric tons, 4 = 210,000,000,000-280,000,000,000 metric tons and 5 = 280,000,000,000-350,000,000,000 metric tons)"
   ]
  },
  {
   "cell_type": "code",
   "execution_count": 84,
   "metadata": {},
   "outputs": [
    {
     "name": "stdout",
     "output_type": "stream",
     "text": [
      "Frequency distribution of Co2Class variable:\n",
      "1 = less than 70,000,000,000 metric tons , 2 = 70, 000,000,000 - 140,000,000,000 metric tons, 3 = 140,000,000,000 - 210,000,000,000 metric tons, 4 = 210,000,000,000-280,000,000,000 metric tons and 5 = 280,000,000,000-350,000,000,000 metric tons\n"
     ]
    },
    {
     "data": {
      "text/html": [
       "<div>\n",
       "<style scoped>\n",
       "    .dataframe tbody tr th:only-of-type {\n",
       "        vertical-align: middle;\n",
       "    }\n",
       "\n",
       "    .dataframe tbody tr th {\n",
       "        vertical-align: top;\n",
       "    }\n",
       "\n",
       "    .dataframe thead th {\n",
       "        text-align: right;\n",
       "    }\n",
       "</style>\n",
       "<table border=\"1\" class=\"dataframe\">\n",
       "  <thead>\n",
       "    <tr style=\"text-align: right;\">\n",
       "      <th></th>\n",
       "      <th>Co2Class</th>\n",
       "    </tr>\n",
       "  </thead>\n",
       "  <tbody>\n",
       "    <tr>\n",
       "      <th>1.0</th>\n",
       "      <td>197</td>\n",
       "    </tr>\n",
       "    <tr>\n",
       "      <th>NaN</th>\n",
       "      <td>13</td>\n",
       "    </tr>\n",
       "    <tr>\n",
       "      <th>2.0</th>\n",
       "      <td>2</td>\n",
       "    </tr>\n",
       "    <tr>\n",
       "      <th>5.0</th>\n",
       "      <td>1</td>\n",
       "    </tr>\n",
       "  </tbody>\n",
       "</table>\n",
       "</div>"
      ],
      "text/plain": [
       "     Co2Class\n",
       "1.0       197\n",
       "NaN        13\n",
       "2.0         2\n",
       "5.0         1"
      ]
     },
     "execution_count": 84,
     "metadata": {},
     "output_type": "execute_result"
    }
   ],
   "source": [
    "#output the frequency of the values of co2class variable\n",
    "print('Frequency distribution of Co2Class variable:')\n",
    "print('1 = less than 70,000,000,000 metric tons , 2 = 70, 000,000,000 - 140,000,000,000 metric tons, 3 = 140,000,000,000 - 210,000,000,000 metric tons, 4 = 210,000,000,000-280,000,000,000 metric tons and 5 = 280,000,000,000-350,000,000,000 metric tons')\n",
    "f2.to_frame()"
   ]
  },
  {
   "cell_type": "code",
   "execution_count": 85,
   "metadata": {},
   "outputs": [
    {
     "data": {
      "text/html": [
       "<div>\n",
       "<style scoped>\n",
       "    .dataframe tbody tr th:only-of-type {\n",
       "        vertical-align: middle;\n",
       "    }\n",
       "\n",
       "    .dataframe tbody tr th {\n",
       "        vertical-align: top;\n",
       "    }\n",
       "\n",
       "    .dataframe thead th {\n",
       "        text-align: right;\n",
       "    }\n",
       "</style>\n",
       "<table border=\"1\" class=\"dataframe\">\n",
       "  <thead>\n",
       "    <tr style=\"text-align: right;\">\n",
       "      <th></th>\n",
       "      <th>Co2Class</th>\n",
       "    </tr>\n",
       "  </thead>\n",
       "  <tbody>\n",
       "    <tr>\n",
       "      <th>1.0</th>\n",
       "      <td>0.924883</td>\n",
       "    </tr>\n",
       "    <tr>\n",
       "      <th>NaN</th>\n",
       "      <td>0.061033</td>\n",
       "    </tr>\n",
       "    <tr>\n",
       "      <th>2.0</th>\n",
       "      <td>0.009390</td>\n",
       "    </tr>\n",
       "    <tr>\n",
       "      <th>5.0</th>\n",
       "      <td>0.004695</td>\n",
       "    </tr>\n",
       "  </tbody>\n",
       "</table>\n",
       "</div>"
      ],
      "text/plain": [
       "     Co2Class\n",
       "1.0  0.924883\n",
       "NaN  0.061033\n",
       "2.0  0.009390\n",
       "5.0  0.004695"
      ]
     },
     "execution_count": 85,
     "metadata": {},
     "output_type": "execute_result"
    }
   ],
   "source": [
    "#output the percentage of the values of co2class variable\n",
    "p2.to_frame()"
   ]
  },
  {
   "cell_type": "markdown",
   "metadata": {},
   "source": [
    "frequency distribution of ElectricClass variable: \n",
    "(1 = less than 2500 KwH, 2 = 2500-5000 kWh, 3 = 5000-7500 kWH, 4 = 7500-9000kWh, 5 = 9000-11500 kWh)"
   ]
  },
  {
   "cell_type": "code",
   "execution_count": 86,
   "metadata": {},
   "outputs": [
    {
     "name": "stdout",
     "output_type": "stream",
     "text": [
      "frequency distribution of ElectricClass variable: \n",
      "1 = less than 2500 KwH, 2 = 2500-5000 kWh, 3 = 5000-7500 kWH, 4 = 7500-9000kWh, 5 = 9000-11500 kWh\n"
     ]
    },
    {
     "data": {
      "text/html": [
       "<div>\n",
       "<style scoped>\n",
       "    .dataframe tbody tr th:only-of-type {\n",
       "        vertical-align: middle;\n",
       "    }\n",
       "\n",
       "    .dataframe tbody tr th {\n",
       "        vertical-align: top;\n",
       "    }\n",
       "\n",
       "    .dataframe thead th {\n",
       "        text-align: right;\n",
       "    }\n",
       "</style>\n",
       "<table border=\"1\" class=\"dataframe\">\n",
       "  <thead>\n",
       "    <tr style=\"text-align: right;\">\n",
       "      <th></th>\n",
       "      <th>ElectricClass</th>\n",
       "    </tr>\n",
       "  </thead>\n",
       "  <tbody>\n",
       "    <tr>\n",
       "      <th>NaN</th>\n",
       "      <td>77</td>\n",
       "    </tr>\n",
       "    <tr>\n",
       "      <th>1.0</th>\n",
       "      <td>121</td>\n",
       "    </tr>\n",
       "    <tr>\n",
       "      <th>2.0</th>\n",
       "      <td>11</td>\n",
       "    </tr>\n",
       "    <tr>\n",
       "      <th>3.0</th>\n",
       "      <td>2</td>\n",
       "    </tr>\n",
       "    <tr>\n",
       "      <th>4.0</th>\n",
       "      <td>1</td>\n",
       "    </tr>\n",
       "    <tr>\n",
       "      <th>5.0</th>\n",
       "      <td>1</td>\n",
       "    </tr>\n",
       "  </tbody>\n",
       "</table>\n",
       "</div>"
      ],
      "text/plain": [
       "     ElectricClass\n",
       "NaN             77\n",
       "1.0            121\n",
       "2.0             11\n",
       "3.0              2\n",
       "4.0              1\n",
       "5.0              1"
      ]
     },
     "execution_count": 86,
     "metadata": {},
     "output_type": "execute_result"
    }
   ],
   "source": [
    "#output the frequency of the values of the electricClass variable\n",
    "print('frequency distribution of ElectricClass variable: ')\n",
    "print('1 = less than 2500 KwH, 2 = 2500-5000 kWh, 3 = 5000-7500 kWH, 4 = 7500-9000kWh, 5 = 9000-11500 kWh')\n",
    "f3.to_frame()"
   ]
  },
  {
   "cell_type": "code",
   "execution_count": 87,
   "metadata": {},
   "outputs": [
    {
     "data": {
      "text/html": [
       "<div>\n",
       "<style scoped>\n",
       "    .dataframe tbody tr th:only-of-type {\n",
       "        vertical-align: middle;\n",
       "    }\n",
       "\n",
       "    .dataframe tbody tr th {\n",
       "        vertical-align: top;\n",
       "    }\n",
       "\n",
       "    .dataframe thead th {\n",
       "        text-align: right;\n",
       "    }\n",
       "</style>\n",
       "<table border=\"1\" class=\"dataframe\">\n",
       "  <thead>\n",
       "    <tr style=\"text-align: right;\">\n",
       "      <th></th>\n",
       "      <th>ElectricClass</th>\n",
       "    </tr>\n",
       "  </thead>\n",
       "  <tbody>\n",
       "    <tr>\n",
       "      <th>NaN</th>\n",
       "      <td>0.361502</td>\n",
       "    </tr>\n",
       "    <tr>\n",
       "      <th>1.0</th>\n",
       "      <td>0.568075</td>\n",
       "    </tr>\n",
       "    <tr>\n",
       "      <th>2.0</th>\n",
       "      <td>0.051643</td>\n",
       "    </tr>\n",
       "    <tr>\n",
       "      <th>3.0</th>\n",
       "      <td>0.009390</td>\n",
       "    </tr>\n",
       "    <tr>\n",
       "      <th>4.0</th>\n",
       "      <td>0.004695</td>\n",
       "    </tr>\n",
       "    <tr>\n",
       "      <th>5.0</th>\n",
       "      <td>0.004695</td>\n",
       "    </tr>\n",
       "  </tbody>\n",
       "</table>\n",
       "</div>"
      ],
      "text/plain": [
       "     ElectricClass\n",
       "NaN       0.361502\n",
       "1.0       0.568075\n",
       "2.0       0.051643\n",
       "3.0       0.009390\n",
       "4.0       0.004695\n",
       "5.0       0.004695"
      ]
     },
     "execution_count": 87,
     "metadata": {},
     "output_type": "execute_result"
    }
   ],
   "source": [
    "#output the percentage of the values of the electricclass variable\n",
    "p3.to_frame()"
   ]
  },
  {
   "cell_type": "markdown",
   "metadata": {},
   "source": [
    "Frequency distribution of incomeclass variable:\n",
    "(1 = GDP per capita less than 22,000 US$, 2 = 22,000-44,000 GDP per capita, 3 = 44,000 - 66,000 GDP per capita, 4 = 66,000 - 88,000 GDP per capita, 5 = 88,000 - 110,000 GDP per capita)\n"
   ]
  },
  {
   "cell_type": "code",
   "execution_count": 88,
   "metadata": {},
   "outputs": [
    {
     "name": "stdout",
     "output_type": "stream",
     "text": [
      "Frequency distribution of incomeclass variable:\n",
      "1 = GDP per capita less than 22,000 US$, 2 = 22,000-44,000 GDP per capita, 3 = 44,000 - 66,000 GDP per capita, 4 = 66,000 - 88,000 GDP per capita, 5 = 88,000 - 110,000 GDP per capita\n"
     ]
    },
    {
     "data": {
      "text/html": [
       "<div>\n",
       "<style scoped>\n",
       "    .dataframe tbody tr th:only-of-type {\n",
       "        vertical-align: middle;\n",
       "    }\n",
       "\n",
       "    .dataframe tbody tr th {\n",
       "        vertical-align: top;\n",
       "    }\n",
       "\n",
       "    .dataframe thead th {\n",
       "        text-align: right;\n",
       "    }\n",
       "</style>\n",
       "<table border=\"1\" class=\"dataframe\">\n",
       "  <thead>\n",
       "    <tr style=\"text-align: right;\">\n",
       "      <th></th>\n",
       "      <th>IncomeClass</th>\n",
       "    </tr>\n",
       "  </thead>\n",
       "  <tbody>\n",
       "    <tr>\n",
       "      <th>NaN</th>\n",
       "      <td>23</td>\n",
       "    </tr>\n",
       "    <tr>\n",
       "      <th>1.0</th>\n",
       "      <td>163</td>\n",
       "    </tr>\n",
       "    <tr>\n",
       "      <th>2.0</th>\n",
       "      <td>23</td>\n",
       "    </tr>\n",
       "    <tr>\n",
       "      <th>3.0</th>\n",
       "      <td>2</td>\n",
       "    </tr>\n",
       "    <tr>\n",
       "      <th>4.0</th>\n",
       "      <td>1</td>\n",
       "    </tr>\n",
       "    <tr>\n",
       "      <th>5.0</th>\n",
       "      <td>1</td>\n",
       "    </tr>\n",
       "  </tbody>\n",
       "</table>\n",
       "</div>"
      ],
      "text/plain": [
       "     IncomeClass\n",
       "NaN           23\n",
       "1.0          163\n",
       "2.0           23\n",
       "3.0            2\n",
       "4.0            1\n",
       "5.0            1"
      ]
     },
     "execution_count": 88,
     "metadata": {},
     "output_type": "execute_result"
    }
   ],
   "source": [
    "#output the frequency of the values for the incomeclass variable\n",
    "print('Frequency distribution of incomeclass variable:')\n",
    "print('1 = GDP per capita less than 22,000 US$, 2 = 22,000-44,000 GDP per capita, 3 = 44,000 - 66,000 GDP per capita, 4 = 66,000 - 88,000 GDP per capita, 5 = 88,000 - 110,000 GDP per capita')\n",
    "f4.to_frame()"
   ]
  },
  {
   "cell_type": "code",
   "execution_count": 89,
   "metadata": {},
   "outputs": [
    {
     "data": {
      "text/html": [
       "<div>\n",
       "<style scoped>\n",
       "    .dataframe tbody tr th:only-of-type {\n",
       "        vertical-align: middle;\n",
       "    }\n",
       "\n",
       "    .dataframe tbody tr th {\n",
       "        vertical-align: top;\n",
       "    }\n",
       "\n",
       "    .dataframe thead th {\n",
       "        text-align: right;\n",
       "    }\n",
       "</style>\n",
       "<table border=\"1\" class=\"dataframe\">\n",
       "  <thead>\n",
       "    <tr style=\"text-align: right;\">\n",
       "      <th></th>\n",
       "      <th>IncomeClass</th>\n",
       "    </tr>\n",
       "  </thead>\n",
       "  <tbody>\n",
       "    <tr>\n",
       "      <th>NaN</th>\n",
       "      <td>0.107981</td>\n",
       "    </tr>\n",
       "    <tr>\n",
       "      <th>1.0</th>\n",
       "      <td>0.765258</td>\n",
       "    </tr>\n",
       "    <tr>\n",
       "      <th>2.0</th>\n",
       "      <td>0.107981</td>\n",
       "    </tr>\n",
       "    <tr>\n",
       "      <th>3.0</th>\n",
       "      <td>0.009390</td>\n",
       "    </tr>\n",
       "    <tr>\n",
       "      <th>4.0</th>\n",
       "      <td>0.004695</td>\n",
       "    </tr>\n",
       "    <tr>\n",
       "      <th>5.0</th>\n",
       "      <td>0.004695</td>\n",
       "    </tr>\n",
       "  </tbody>\n",
       "</table>\n",
       "</div>"
      ],
      "text/plain": [
       "     IncomeClass\n",
       "NaN     0.107981\n",
       "1.0     0.765258\n",
       "2.0     0.107981\n",
       "3.0     0.009390\n",
       "4.0     0.004695\n",
       "5.0     0.004695"
      ]
     },
     "execution_count": 89,
     "metadata": {},
     "output_type": "execute_result"
    }
   ],
   "source": [
    "p4.to_frame()"
   ]
  },
  {
   "cell_type": "code",
   "execution_count": null,
   "metadata": {},
   "outputs": [],
   "source": []
  }
 ],
 "metadata": {
  "kernelspec": {
   "display_name": "Python 3",
   "language": "python",
   "name": "python3"
  },
  "language_info": {
   "codemirror_mode": {
    "name": "ipython",
    "version": 3
   },
   "file_extension": ".py",
   "mimetype": "text/x-python",
   "name": "python",
   "nbconvert_exporter": "python",
   "pygments_lexer": "ipython3",
   "version": "3.7.6"
  }
 },
 "nbformat": 4,
 "nbformat_minor": 4
}
